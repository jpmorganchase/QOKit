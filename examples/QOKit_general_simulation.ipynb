{
 "cells": [
  {
   "cell_type": "code",
   "execution_count": 1,
   "id": "b652cba4",
   "metadata": {},
   "outputs": [],
   "source": [
    "import qokit\n",
    "import numpy as np\n",
    "from itertools import combinations"
   ]
  },
  {
   "cell_type": "markdown",
   "id": "d29caf01-ea41-44cc-bdb8-56e62eff8035",
   "metadata": {},
   "source": [
    "# Simulation of QAOA applied to a general problem\n",
    "\n",
    "In this tutorial, we show to get QAOA objective for a problem that does not have a directly implemented high-level API like LABS or MaxCut. In particular, we will consider the Sherrington-Kirkpatrick (SK) model given by the following objective:\n",
    "$$\n",
    "G(z) = -\\sum_{1\\leq i <j\\leq N}J^{(N)}_{ij}z_iz_j\n",
    "$$\n",
    "where $J^{(N)}_{ij} \\sim \\mathcal{N}(\\mu(N), \\sigma^2)$.\n",
    "\n",
    "To simulate the QAOA on SK model, we need to generate a problem representation. The format used by QOKit is a of tuples, where each tuple defines a summand and contains indices of the Pauli Zs in the product along with the coefficient. For example, if terms = [(0.5, (0,1)), (-1, (0,1,2,3)), (1,(1,2))], the Hamiltonian is\n",
    "$$\n",
    "0.5z_0z_1 - z_0z_1z_2z_3 + z_1z_2\n",
    "$$"
   ]
  },
  {
   "cell_type": "code",
   "execution_count": 2,
   "id": "026a06b7-dd72-4584-8ebe-011900a697a4",
   "metadata": {},
   "outputs": [],
   "source": [
    "N = 4\n",
    "np.random.seed(10)\n",
    "terms = [(np.random.normal(), spin_pair) for spin_pair in combinations(range(N), r=2)]"
   ]
  },
  {
   "cell_type": "markdown",
   "id": "b5e73f99",
   "metadata": {},
   "source": [
    "## Create simulator\n",
    "\n",
    "`simclass` is a class that you should use to create the simulator.\n",
    "There are multiple simulators in `qokit.fur` module.\n",
    "You can choose to use `gpu` or `python` simulator and the following notebook should run without error"
   ]
  },
  {
   "cell_type": "code",
   "execution_count": 3,
   "id": "6f27c199",
   "metadata": {},
   "outputs": [
    {
     "name": "stderr",
     "output_type": "stream",
     "text": [
      "LazyModule: mpi4py.MPI is missing.\n"
     ]
    }
   ],
   "source": [
    "simclass = qokit.fur.choose_simulator(name='auto')\n",
    "sim = simclass(N, terms=terms)"
   ]
  },
  {
   "cell_type": "code",
   "execution_count": 4,
   "id": "23ca9953",
   "metadata": {},
   "outputs": [],
   "source": [
    "### Get precomputed diagonal cost vector and cache if desired"
   ]
  },
  {
   "cell_type": "code",
   "execution_count": 5,
   "id": "6604b773",
   "metadata": {},
   "outputs": [
    {
     "data": {
      "text/plain": [
       "array([ 0.39433175, -0.60859862, -3.49474551,  0.82867014,  0.42071262,\n",
       "        2.27889815, -3.50190003,  3.68263151,  3.68263151, -3.50190003,\n",
       "        2.27889815,  0.42071262,  0.82867014, -3.49474551, -0.60859862,\n",
       "        0.39433175])"
      ]
     },
     "execution_count": 5,
     "metadata": {},
     "output_type": "execute_result"
    }
   ],
   "source": [
    "sim.get_cost_diagonal()"
   ]
  },
  {
   "cell_type": "markdown",
   "id": "b7730f21",
   "metadata": {},
   "source": [
    "## Simulate QAOA for parameters\n",
    "\n",
    "Simulator returns a `result` object which may be different depending on the type of simulator you use.\n",
    "If you want to use it directly, you have to know exactly which simulator you are using"
   ]
  },
  {
   "cell_type": "code",
   "execution_count": 6,
   "id": "586225a2",
   "metadata": {},
   "outputs": [],
   "source": [
    "p = 3\n",
    "gamma, beta = np.random.rand(2, 3)\n",
    "_result = sim.simulate_qaoa(gamma, beta) # Result depends on the type of simulator. "
   ]
  },
  {
   "cell_type": "markdown",
   "id": "81aaea2e",
   "metadata": {},
   "source": [
    "## Get simulation results"
   ]
  },
  {
   "cell_type": "markdown",
   "id": "9889b012",
   "metadata": {},
   "source": [
    "### Get statevector"
   ]
  },
  {
   "cell_type": "code",
   "execution_count": 7,
   "id": "c49c254f",
   "metadata": {},
   "outputs": [
    {
     "data": {
      "text/plain": [
       "array([0.13720186+0.14502526j, 0.09431783+0.12211294j,\n",
       "       0.04665999-0.1383308j , 0.16514588+0.16112639j,\n",
       "       0.15497791+0.17550594j, 0.26061719+0.187216j  ,\n",
       "       0.03410968-0.17167419j, 0.36219128+0.20537478j,\n",
       "       0.36219128+0.20537478j, 0.03410968-0.17167419j,\n",
       "       0.26061719+0.187216j  , 0.15497791+0.17550594j,\n",
       "       0.16514588+0.16112639j, 0.04665999-0.1383308j ,\n",
       "       0.09431783+0.12211294j, 0.13720186+0.14502526j])"
      ]
     },
     "execution_count": 7,
     "metadata": {},
     "output_type": "execute_result"
    }
   ],
   "source": [
    "sv = sim.get_statevector(_result)\n",
    "sv"
   ]
  },
  {
   "cell_type": "markdown",
   "id": "e7cff7f9",
   "metadata": {},
   "source": [
    "### Get probabilities\n",
    "\n",
    "The simulator will calculate probabilities for you. This may be done in-place, overwriting the data of statevector to avoid allocation of a separate array"
   ]
  },
  {
   "cell_type": "code",
   "execution_count": 8,
   "id": "71fd5297",
   "metadata": {},
   "outputs": [
    {
     "data": {
      "text/plain": [
       "1.0000000000000004"
      ]
     },
     "execution_count": 8,
     "metadata": {},
     "output_type": "execute_result"
    }
   ],
   "source": [
    "probs = sim.get_probabilities(_result)\n",
    "probs.sum()"
   ]
  },
  {
   "cell_type": "markdown",
   "id": "32f70028",
   "metadata": {},
   "source": [
    "This will overwrite the `_result` if using GPU simulation. Subsequent calls to `get_statevector` return invalid data."
   ]
  },
  {
   "cell_type": "code",
   "execution_count": 9,
   "id": "e4f746a0",
   "metadata": {},
   "outputs": [
    {
     "name": "stdout",
     "output_type": "stream",
     "text": [
      "Using numpy\n"
     ]
    }
   ],
   "source": [
    "probs = sim.get_probabilities(_result, preserve_state=False)\n",
    "sv2 = sim.get_statevector(_result)\n",
    "print(\"Using numpy\") if np.allclose(sv, sv2) else print(\"Yohoo, I'm using a memory-economic simulator!\")"
   ]
  },
  {
   "cell_type": "markdown",
   "id": "9b232da3",
   "metadata": {},
   "source": [
    "### Get expectation value\n",
    "\n",
    "For numpy version, the simulator effectively does `sv.dot(costs)`, where costs is the precomputed diagonal.\n",
    "\n",
    "You may specify your own observable vector which will be used instead of the diagonal hamiltonian."
   ]
  },
  {
   "cell_type": "code",
   "execution_count": 10,
   "id": "6ee59f1a",
   "metadata": {},
   "outputs": [
    {
     "name": "stdout",
     "output_type": "stream",
     "text": [
      "Expectation of C: 1.5194551853006746\n",
      "1/(Expectation of 1/C):  1.4973912754030274\n"
     ]
    }
   ],
   "source": [
    "e = sim.get_expectation(_result)\n",
    "costs_inv = 1/sim.get_cost_diagonal()\n",
    "e_inv = sim.get_expectation(_result, costs=costs_inv)\n",
    "print(\"Expectation of C:\", e)\n",
    "print(\"1/(Expectation of 1/C): \", 1/e_inv)"
   ]
  },
  {
   "cell_type": "markdown",
   "id": "30749816",
   "metadata": {},
   "source": [
    "### Get overlap\n",
    "\n",
    "Returns the overlap with ground states, which are states corresponding to minimum of C. \n",
    "You may specify the corresponding costs as well. Additionally, prodive `indices` if you want to get probability for particular state."
   ]
  },
  {
   "cell_type": "code",
   "execution_count": 11,
   "id": "2b935390",
   "metadata": {},
   "outputs": [
    {
     "name": "stdout",
     "output_type": "stream",
     "text": [
      "Ground state overlap: 0.06127099876467231\n",
      "Overlap with ground state for absolute cost: 0.0797133524682188\n",
      "Overlap with highest state (inverted costs): 0.346722642613863\n",
      "Overlap with highest state (negative): 0.346722642613863\n"
     ]
    }
   ],
   "source": [
    "overlap = sim.get_overlap(_result)\n",
    "print(\"Ground state overlap:\", overlap)\n",
    "# Below we test that for positive-valued cost function, the maximum can be achieved \n",
    "# by either inverting the values, or negating the values.\n",
    "costs_abs = np.abs(sim.get_cost_diagonal())\n",
    "print(\"Overlap with ground state for absolute cost:\", sim.get_overlap(_result, costs=costs_abs))\n",
    "overlap_inv = sim.get_overlap(_result, costs=1/costs_abs)\n",
    "print(\"Overlap with highest state (inverted costs):\", overlap_inv)\n",
    "overlap_neg = sim.get_overlap(_result, costs=-costs_abs)\n",
    "print(\"Overlap with highest state (negative):\", overlap_neg)\n",
    "assert overlap_inv == overlap_neg, \"You may have values of mixed sign in your cost.\""
   ]
  },
  {
   "cell_type": "markdown",
   "id": "501797af",
   "metadata": {},
   "source": [
    "Overlap may be calculated in-place as well, which may make subsequent calls like `sim.get_expectation()` return incorrect values.\n",
    "The default behavior is to copy, to provide consistent between simulator types.\n",
    "\n",
    "If you only need one value for each `result`, you can pass `preserve_state=False` to reduce the memory usage."
   ]
  },
  {
   "cell_type": "code",
   "execution_count": 12,
   "id": "deb212aa",
   "metadata": {},
   "outputs": [],
   "source": [
    "# specify state indices\n",
    "overlap_03 = sim.get_overlap(_result, indices=[0, 3])\n",
    "probs = sim.get_probabilities(_result)\n",
    "assert overlap_03 == probs[[0, 3]].sum(), \"This is a bug, please report it\""
   ]
  },
  {
   "cell_type": "markdown",
   "id": "89cd5044",
   "metadata": {},
   "source": [
    "---"
   ]
  }
 ],
 "metadata": {
  "kernelspec": {
   "display_name": "py39",
   "language": "python",
   "name": "py39"
  },
  "language_info": {
   "codemirror_mode": {
    "name": "ipython",
    "version": 3
   },
   "file_extension": ".py",
   "mimetype": "text/x-python",
   "name": "python",
   "nbconvert_exporter": "python",
   "pygments_lexer": "ipython3",
   "version": "3.9.4"
  }
 },
 "nbformat": 4,
 "nbformat_minor": 5
}
