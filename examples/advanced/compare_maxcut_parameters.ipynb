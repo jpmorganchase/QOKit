{
 "cells": [
  {
   "cell_type": "markdown",
   "id": "c38fb1b6-1d36-4cd3-9d72-9c9bee1ce662",
   "metadata": {},
   "source": [
    "# Comparing different parameters for QAOA applied to MaxCut\n",
    "\n",
    "Different parameters have been proposed for QAOA applied to MaxCut. Two notable examples are the \"fixed angle conjecture\" parameters of [1] and the parameters obtained for the SK model in the infinite size limit [2]. Both are available in QOKit. Below we show an example of comparing QAOA performance with the two parameter setting strategies.\n",
    "\n",
    "[1] The fixed angle conjecture for QAOA on regular MaxCut graphs. Jonathan Wurtz, Danylo Lykov. https://arxiv.org/abs/2107.00677\n",
    "\n",
    "[2] The Quantum Approximate Optimization Algorithm at High Depth for MaxCut on Large-Girth Regular Graphs and the Sherrington-Kirkpatrick Model. Joao Basso, Edward Farhi, Kunal Marwaha, Benjamin Villalonga, Leo Zhou. https://arxiv.org/abs/2110.14206"
   ]
  },
  {
   "cell_type": "code",
   "execution_count": 1,
   "id": "f2481f81-c852-4946-b960-fb77efc783fa",
   "metadata": {
    "tags": []
   },
   "outputs": [],
   "source": [
    "import numpy as np\n",
    "import networkx as nx\n",
    "from functools import partial\n",
    "\n",
    "from qokit.qaoa_objective_maxcut import get_qaoa_maxcut_objective\n",
    "from qokit.maxcut import maxcut_obj, get_adjacency_matrix\n",
    "from qokit.utils import precompute_energies\n",
    "from qokit.parameter_utils import get_fixed_gamma_beta, get_sk_gamma_beta"
   ]
  },
  {
   "cell_type": "code",
   "execution_count": 2,
   "id": "b1c825bd-e948-4031-be20-ca5c3e8cb1a7",
   "metadata": {
    "tags": []
   },
   "outputs": [],
   "source": [
    "import warnings\n",
    "warnings.simplefilter(\"ignore\", UserWarning)"
   ]
  },
  {
   "cell_type": "code",
   "execution_count": 3,
   "id": "9b3cead5-3b8c-4d2c-841c-50a0938b1101",
   "metadata": {
    "tags": []
   },
   "outputs": [
    {
     "name": "stdout",
     "output_type": "stream",
     "text": [
      "QAOA Approximation Ration at p = 1\n",
      "Fixed: 0.7447449856445802\n",
      "SK: 0.7446965193396393\n",
      "QAOA Approximation Ration at p = 2\n",
      "Fixed: 0.7941748988319051\n",
      "SK: 0.7909404782710872\n",
      "QAOA Approximation Ration at p = 3\n",
      "Fixed: 0.8238045549650369\n",
      "SK: 0.8206759633288098\n",
      "QAOA Approximation Ration at p = 4\n",
      "Fixed: 0.8427741081372286\n",
      "SK: 0.8394883077961094\n",
      "QAOA Approximation Ration at p = 5\n",
      "SK: 0.8555177750871605\n",
      "QAOA Approximation Ration at p = 6\n",
      "SK: 0.8683429820234648\n",
      "QAOA Approximation Ration at p = 7\n",
      "SK: 0.8783448631130716\n",
      "QAOA Approximation Ration at p = 8\n",
      "SK: 0.8862120411609924\n",
      "QAOA Approximation Ration at p = 9\n",
      "SK: 0.8925029010830423\n",
      "QAOA Approximation Ration at p = 10\n",
      "SK: 0.8977500836882315\n",
      "QAOA Approximation Ration at p = 11\n",
      "SK: 0.9022307316009247\n",
      "QAOA Approximation Ration at p = 12\n",
      "SK: 0.9060755336973795\n",
      "QAOA Approximation Ration at p = 13\n",
      "SK: 0.9093774753834447\n",
      "QAOA Approximation Ration at p = 14\n",
      "SK: 0.9122888929726596\n",
      "QAOA Approximation Ration at p = 15\n",
      "SK: 0.914928559351209\n",
      "QAOA Approximation Ration at p = 16\n",
      "SK: 0.9174003464111532\n"
     ]
    }
   ],
   "source": [
    "# Generate a random regular graph\n",
    "N = 20\n",
    "d = 5\n",
    "seed = 1\n",
    "G = nx.random_regular_graph(d,N,seed=seed)\n",
    "\n",
    "# precompute energies to speed up computation\n",
    "obj = partial(maxcut_obj, w=get_adjacency_matrix(G))\n",
    "precomputed_energies = precompute_energies(obj, N)\n",
    "optimal_cut = np.max(precomputed_energies)\n",
    "\n",
    "for p in range(1, 17):\n",
    "    print(f\"QAOA Approximation Ratio at p = {p}\")\n",
    "    f = get_qaoa_maxcut_objective(N, p, precomputed_cuts=precomputed_energies, parameterization='gamma beta')\n",
    "    try:\n",
    "        gamma, beta = get_fixed_gamma_beta(d, p)\n",
    "        print(f'Fixed: {f(gamma, beta) / optimal_cut}')\n",
    "    except ValueError:\n",
    "        # skip if parameters not available\n",
    "        pass\n",
    "    try:\n",
    "        gamma, beta = get_sk_gamma_beta(p)\n",
    "        print(f'SK: {f(gamma / np.sqrt(d), beta) / optimal_cut}')\n",
    "    except ValueError:\n",
    "        # skip if parameters not available\n",
    "        pass"
   ]
  },
  {
   "cell_type": "code",
   "execution_count": null,
   "id": "2728b09f-3a8c-46ac-afd2-1b52c91566e9",
   "metadata": {},
   "outputs": [],
   "source": []
  }
 ],
 "metadata": {
  "kernelspec": {
   "display_name": "Python 3 (ipykernel)",
   "language": "python",
   "name": "python3"
  },
  "language_info": {
   "codemirror_mode": {
    "name": "ipython",
    "version": 3
   },
   "file_extension": ".py",
   "mimetype": "text/x-python",
   "name": "python",
   "nbconvert_exporter": "python",
   "pygments_lexer": "ipython3",
   "version": "3.11.3"
  }
 },
 "nbformat": 4,
 "nbformat_minor": 5
}
