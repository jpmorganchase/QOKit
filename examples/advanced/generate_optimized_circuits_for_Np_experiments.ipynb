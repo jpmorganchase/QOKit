{
 "cells": [
  {
   "cell_type": "code",
   "execution_count": 1,
   "id": "a04e6095-ce70-4bd9-a984-654c9bfa47c1",
   "metadata": {
    "tags": []
   },
   "outputs": [],
   "source": [
    "import numpy as np\n",
    "import networkx as nx\n",
    "from functools import partial\n",
    "\n",
    "from qokit.qaoa_circuit_maxcut import get_qaoa_circuit\n",
    "from qokit.maxcut import maxcut_obj, get_adjacency_matrix\n",
    "from qokit.utils import brute_force, objective_from_counts, invert_counts\n",
    "from qokit.parameter_utils import get_fixed_gamma_beta"
   ]
  },
  {
   "cell_type": "markdown",
   "id": "d6be8886-0f79-419f-94a2-5b0e936a5981",
   "metadata": {},
   "source": [
    "# Generating the circuits for benchmarking $N\\cdot p$ of QAOA\n",
    "\n",
    "One benchmark used for evaluating the ability of quantum computers to solve optimization problems is the maximum $N\\cdot p$ that can be executed on this quantum computer. This benchmark was originally proposed by DARPA in 2019 [1] and has been demonstrated on Quantinuum H1 [2].\n",
    "\n",
    "In this notebook, we show how to generate the circuits for this evaluation using QOKit.\n",
    "\n",
    "[1] Optimization with Noisy Intermediate-Scale Quantum devices (ONISQ). Notice ID: HR001119S0052 https://sam.gov/opp/1e94e435a6be3b2f0939c8eeea1d7fd3/view \n",
    "\n",
    "[2] QAOA with $N\\cdot p\\geq 200$. Ruslan Shaydulin, Marco Pistoia https://arxiv.org/abs/2303.02064"
   ]
  },
  {
   "cell_type": "code",
   "execution_count": 2,
   "id": "91ead96a-989f-4803-8424-2c54b6c346cb",
   "metadata": {
    "tags": []
   },
   "outputs": [],
   "source": [
    "# Generate a random regular graph\n",
    "N = 10\n",
    "d = 3\n",
    "seed = 1\n",
    "G = nx.random_regular_graph(d,N,seed=seed)\n",
    "\n",
    "p = 11\n",
    "# Get the parameters for QAOA for MaxCut on regular graphs from arXiv:2107.00677\n",
    "gamma, beta = get_fixed_gamma_beta(d, p)\n",
    "\n",
    "# Get circuit\n",
    "qc = get_qaoa_circuit(G, gamma, beta, save_statevector=False)\n",
    "qc.measure_all()"
   ]
  },
  {
   "cell_type": "markdown",
   "id": "aa10a67e-5872-4264-a352-471597d6a4ee",
   "metadata": {},
   "source": [
    "## Optional: execute and validate the solution quality"
   ]
  },
  {
   "cell_type": "code",
   "execution_count": 3,
   "id": "12164562-e3f2-409a-b0b1-cfbcffa96c70",
   "metadata": {
    "tags": []
   },
   "outputs": [],
   "source": [
    "# Compute true optimal solution\n",
    "obj = partial(maxcut_obj, w=get_adjacency_matrix(G))\n",
    "optimal_cut = brute_force(obj, N, function_takes=\"bits\")[0]"
   ]
  },
  {
   "cell_type": "code",
   "execution_count": 4,
   "id": "4a28f1c4-f06e-44e6-ade1-40b89466f9ca",
   "metadata": {
    "tags": []
   },
   "outputs": [],
   "source": [
    "from qiskit.providers.aer import AerSimulator\n",
    "\n",
    "backend_qiskit = AerSimulator()"
   ]
  },
  {
   "cell_type": "code",
   "execution_count": 5,
   "id": "36410195-8ab3-4987-9d43-97b70351ade2",
   "metadata": {
    "tags": []
   },
   "outputs": [],
   "source": [
    "counts_qiskit = invert_counts(backend_qiskit.run(qc).result().get_counts())"
   ]
  },
  {
   "cell_type": "code",
   "execution_count": 6,
   "id": "ba0b52a2-3db2-4fe5-99c7-c4870697deed",
   "metadata": {
    "tags": []
   },
   "outputs": [
    {
     "name": "stdout",
     "output_type": "stream",
     "text": [
      "Approximation ratio: 0.96728515625\n"
     ]
    }
   ],
   "source": [
    "print(f\"Approximation ratio: {objective_from_counts(counts_qiskit, obj) / optimal_cut}\")"
   ]
  },
  {
   "cell_type": "markdown",
   "id": "e4c04e20-592f-44f5-8e2a-0a2be64dae76",
   "metadata": {},
   "source": [
    "## Optional: try optimizing the parameters further\n",
    "\n",
    "We will use the fast QOKit simulator instead of Qiskit for the optimization"
   ]
  },
  {
   "cell_type": "code",
   "execution_count": 7,
   "id": "ecf4afec-5504-48ba-9773-d3aadf6767d2",
   "metadata": {
    "tags": []
   },
   "outputs": [],
   "source": [
    "from scipy.optimize import minimize\n",
    "\n",
    "from qokit.qaoa_objective_maxcut import get_qaoa_maxcut_objective\n",
    "from qokit.utils import precompute_energies"
   ]
  },
  {
   "cell_type": "code",
   "execution_count": 8,
   "id": "3472b902-1ca6-45a7-97a2-39d2c8885028",
   "metadata": {
    "tags": []
   },
   "outputs": [],
   "source": [
    "precomputed_energies = precompute_energies(obj, N)"
   ]
  },
  {
   "cell_type": "code",
   "execution_count": 9,
   "id": "d3ee862d-56d3-4a13-a0c2-a7b11da1dd18",
   "metadata": {
    "tags": []
   },
   "outputs": [],
   "source": [
    "# objective to optimize\n",
    "f = get_qaoa_maxcut_objective(N, p, precomputed_cuts=precomputed_energies)\n",
    "# putting minus in front of gamma since we flipped the sign for minimization\n",
    "X0 = np.hstack([np.array(gamma), beta])"
   ]
  },
  {
   "cell_type": "code",
   "execution_count": 10,
   "id": "ef0623ac-ffa4-41f0-8e96-832c2983225f",
   "metadata": {
    "tags": []
   },
   "outputs": [
    {
     "name": "stdout",
     "output_type": "stream",
     "text": [
      "Approximation ratio before optimization: 0.9675931950044419\n"
     ]
    }
   ],
   "source": [
    "print(f\"Approximation ratio before optimization: {-f(X0) / optimal_cut}\")"
   ]
  },
  {
   "cell_type": "code",
   "execution_count": 11,
   "id": "5ef43616-1b68-4f6f-a42c-3e586ef206f1",
   "metadata": {
    "tags": []
   },
   "outputs": [],
   "source": [
    "res = minimize(f, X0, method='COBYLA', options={'rhobeg':0.001})"
   ]
  },
  {
   "cell_type": "code",
   "execution_count": 12,
   "id": "838cf93c-7880-4921-88ae-d108f89a55d0",
   "metadata": {
    "tags": []
   },
   "outputs": [
    {
     "name": "stdout",
     "output_type": "stream",
     "text": [
      "Approximation ratio after optimization: 0.9914728555522948\n"
     ]
    }
   ],
   "source": [
    "print(f\"Approximation ratio after optimization: {-f(res.x) / optimal_cut}\")"
   ]
  },
  {
   "cell_type": "markdown",
   "id": "5099d861-7225-4df5-922a-c9a4a5e7d1e5",
   "metadata": {},
   "source": [
    "---"
   ]
  }
 ],
 "metadata": {
  "kernelspec": {
   "display_name": "py39",
   "language": "python",
   "name": "py39"
  },
  "language_info": {
   "codemirror_mode": {
    "name": "ipython",
    "version": 3
   },
   "file_extension": ".py",
   "mimetype": "text/x-python",
   "name": "python",
   "nbconvert_exporter": "python",
   "pygments_lexer": "ipython3",
   "version": "3.9.4"
  }
 },
 "nbformat": 4,
 "nbformat_minor": 5
}
