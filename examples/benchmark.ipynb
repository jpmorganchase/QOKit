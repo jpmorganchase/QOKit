{
 "cells": [
  {
   "cell_type": "markdown",
   "id": "1c1a8de1-aa43-4136-9844-8abadf6343dd",
   "metadata": {},
   "source": [
    "Please install QOKit from source. If you have issues with urllib3, downgrade it after QOKit install by running `pip install urllib3==1.26.6`\n",
    "\n",
    "First, we check that all the simulators are loaded properly"
   ]
  },
  {
   "cell_type": "code",
   "execution_count": 1,
   "id": "d9a6d070-3524-4fe8-af23-c295751d7145",
   "metadata": {},
   "outputs": [
    {
     "name": "stdout",
     "output_type": "stream",
     "text": [
      "['gpu', 'python']\n"
     ]
    }
   ],
   "source": [
    "from qokit.fur import get_available_simulator_names\n",
    "\n",
    "print(get_available_simulator_names(\"x\"))"
   ]
  },
  {
   "cell_type": "markdown",
   "id": "11678646-6e36-416f-aec6-39b38f1bc02f",
   "metadata": {},
   "source": [
    "The output should be `['gpu', 'c', 'python']`. `'c'` simulator is optional and is not relevant to this benchmark. However, if it's missing, you can compile it manually by running `make -C qokit/fur/c/csim/src/` in the home directory of QOKit"
   ]
  },
  {
   "cell_type": "code",
   "execution_count": 2,
   "id": "6d84f2d6-68f2-481c-b1ba-6fcc87b6984e",
   "metadata": {},
   "outputs": [],
   "source": [
    "import numpy as np\n",
    "from tqdm import tqdm\n",
    "import networkx as nx\n",
    "import timeit \n",
    "from qokit.qaoa_objective_labs import get_qaoa_labs_objective\n",
    "from qokit.qaoa_objective_maxcut import get_qaoa_maxcut_objective\n",
    "from qokit.qaoa_objective import get_qaoa_objective"
   ]
  },
  {
   "cell_type": "markdown",
   "id": "9c0ab1bf-fbf2-4b62-a4d2-998b3002fba4",
   "metadata": {},
   "source": [
    "Note that `f_labs` requires a precomputed diagonal for higher `N`. \n",
    "You can precompute the diagonal once using \n",
    "```\n",
    "from qokit.labs import negative_merit_factor_from_bitstring\n",
    "ens = precompute_energies(negative_merit_factor_from_bitstring, N)\n",
    "outpath = f\"../qokit/assets/precomputed_merit_factors/precomputed_energies_{N}.npy\"\n",
    "np.save(outpath, ens, allow_pickle=False)\n",
    "```\n",
    "and saving it on disc under `qokit/assets/precomputed_merit_factors`. Note that precomputation can take a while."
   ]
  },
  {
   "cell_type": "code",
   "execution_count": 3,
   "id": "cc25c2a0-760d-4482-bf4d-19a0dc746def",
   "metadata": {},
   "outputs": [
    {
     "name": "stdout",
     "output_type": "stream",
     "text": [
      "N=24\n"
     ]
    },
    {
     "name": "stderr",
     "output_type": "stream",
     "text": [
      "/opt/omniai/work/instance1/jupyter/py39/lib/python3.9/site-packages/numba/cuda/dispatcher.py:536: NumbaPerformanceWarning: Grid size 64 will likely result in GPU under-utilization due to low occupancy.\n",
      "  warn(NumbaPerformanceWarning(msg))\n",
      "/opt/omniai/work/instance1/jupyter/py39/lib/python3.9/site-packages/numba/cuda/dispatcher.py:536: NumbaPerformanceWarning: Grid size 1 will likely result in GPU under-utilization due to low occupancy.\n",
      "  warn(NumbaPerformanceWarning(msg))\n",
      "100%|██████████| 10/10 [00:00<00:00, 12.12it/s]\n"
     ]
    },
    {
     "name": "stdout",
     "output_type": "stream",
     "text": [
      "\tLABS finished in 0.0821 on average, min: 0.0806, max: 0.0885\n"
     ]
    },
    {
     "name": "stderr",
     "output_type": "stream",
     "text": [
      "100%|██████████| 10/10 [00:00<00:00, 12.87it/s]\n"
     ]
    },
    {
     "name": "stdout",
     "output_type": "stream",
     "text": [
      "\tMaxCut finished in 0.0773 on average, min: 0.0759, max: 0.0836\n",
      "N=26\n"
     ]
    },
    {
     "name": "stderr",
     "output_type": "stream",
     "text": [
      "100%|██████████| 10/10 [00:03<00:00,  2.84it/s]\n"
     ]
    },
    {
     "name": "stdout",
     "output_type": "stream",
     "text": [
      "\tLABS finished in 0.3509 on average, min: 0.3481, max: 0.3601\n"
     ]
    },
    {
     "name": "stderr",
     "output_type": "stream",
     "text": [
      "100%|██████████| 10/10 [00:03<00:00,  3.02it/s]\n"
     ]
    },
    {
     "name": "stdout",
     "output_type": "stream",
     "text": [
      "\tMaxCut finished in 0.3308 on average, min: 0.3289, max: 0.3393\n",
      "N=28\n"
     ]
    },
    {
     "name": "stderr",
     "output_type": "stream",
     "text": [
      "100%|██████████| 10/10 [00:13<00:00,  1.39s/it]\n"
     ]
    },
    {
     "name": "stdout",
     "output_type": "stream",
     "text": [
      "\tLABS finished in 1.3889 on average, min: 1.3856, max: 1.3953\n"
     ]
    },
    {
     "name": "stderr",
     "output_type": "stream",
     "text": [
      "100%|██████████| 10/10 [00:13<00:00,  1.31s/it]"
     ]
    },
    {
     "name": "stdout",
     "output_type": "stream",
     "text": [
      "\tMaxCut finished in 1.3112 on average, min: 1.3088, max: 1.3201\n"
     ]
    },
    {
     "name": "stderr",
     "output_type": "stream",
     "text": [
      "\n"
     ]
    }
   ],
   "source": [
    "# number of qubits\n",
    "for N in [24, 26, 28]:\n",
    "    print(f\"N={N}\")\n",
    "    # QAOA depth\n",
    "    p = 6\n",
    "\n",
    "    theta = np.random.uniform(0,1,2*p)\n",
    "    G = nx.random_regular_graph(4, N, seed=42)\n",
    "\n",
    "    # Function initialization may not be fast\n",
    "    f_maxcut = get_qaoa_maxcut_objective(N, p, G)\n",
    "    f_labs = get_qaoa_labs_objective(N, p)\n",
    "\n",
    "    # Function evaluation is fast\n",
    "    for f, label in [(f_labs, \"LABS\"), (f_maxcut, \"MaxCut\")]:\n",
    "        f(theta) # do not count the first evaluation\n",
    "        times = []\n",
    "        for _ in tqdm(range(10)):\n",
    "            start = timeit.default_timer()\n",
    "            f(theta)\n",
    "            end = timeit.default_timer()\n",
    "            times.append(end-start)\n",
    "        print(f\"\\t{label} finished in {np.mean(times):.4f} on average, min: {np.min(times):.4f}, max: {np.max(times):.4f}\")"
   ]
  },
  {
   "cell_type": "markdown",
   "id": "b5abbd11-55ee-4ba3-b685-482e90180d2e",
   "metadata": {},
   "source": [
    "This is what I measured on `g4dn.2xlarge` (NVIDIA T4 GPU) as the time to evaluate `f_labs(theta)` and `f_maxcut(theta)` (commit `f6f6f565`):\n",
    "\n",
    "```\n",
    "N=24\n",
    "\tLABS finished in 0.1823 on average, min: 0.1802, max: 0.1902\n",
    "\tMaxCut finished in 0.1676 on average, min: 0.1637, max: 0.1758\n",
    "N=26\n",
    "\tLABS finished in 0.8143 on average, min: 0.8102, max: 0.8229\n",
    "\tMaxCut finished in 0.7606 on average, min: 0.7571, max: 0.7692\n",
    "N=28\n",
    "\tLABS finished in 3.2480 on average, min: 3.2361, max: 3.2598\n",
    "\tMaxCut finished in 2.9858 on average, min: 2.9793, max: 2.9949\n",
    "```\n",
    "\n",
    "Same benchmark on `g5.2xlarge` (NVIDIA A10G):\n",
    "\n",
    "```\n",
    "N=24\n",
    "\tLABS finished in 0.0821 on average, min: 0.0806, max: 0.0885\n",
    "\tMaxCut finished in 0.0773 on average, min: 0.0759, max: 0.0836\n",
    "N=26\n",
    "\tLABS finished in 0.3509 on average, min: 0.3481, max: 0.3601\n",
    "\tMaxCut finished in 0.3308 on average, min: 0.3289, max: 0.3393\n",
    "N=28\n",
    "\tLABS finished in 1.3889 on average, min: 1.3856, max: 1.3953\n",
    "\tMaxCut finished in 1.3112 on average, min: 1.3088, max: 1.3201\n",
    "```"
   ]
  },
  {
   "cell_type": "code",
   "execution_count": null,
   "id": "549162cf-99c4-4473-bc01-87b616dae7bc",
   "metadata": {},
   "outputs": [],
   "source": []
  }
 ],
 "metadata": {
  "kernelspec": {
   "display_name": "py39",
   "language": "python",
   "name": "py39"
  },
  "language_info": {
   "codemirror_mode": {
    "name": "ipython",
    "version": 3
   },
   "file_extension": ".py",
   "mimetype": "text/x-python",
   "name": "python",
   "nbconvert_exporter": "python",
   "pygments_lexer": "ipython3",
   "version": "3.9.4"
  }
 },
 "nbformat": 4,
 "nbformat_minor": 5
}
