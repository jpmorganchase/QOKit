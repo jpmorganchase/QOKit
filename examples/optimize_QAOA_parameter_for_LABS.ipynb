{
 "cells": [
  {
   "cell_type": "markdown",
   "id": "f5130ee6-2ec1-4fd8-9d71-bb84a5f3e245",
   "metadata": {
    "tags": []
   },
   "source": [
    "# Optimize QAOA parameters for LABS\n",
    "\n",
    "We'll show an example for overlap, but optimizing the expectation is analogous"
   ]
  },
  {
   "cell_type": "code",
   "execution_count": 1,
   "id": "2cf620f3-89fb-47b7-a332-bfd666ce9bc6",
   "metadata": {},
   "outputs": [],
   "source": [
    "import numpy as np\n",
    "import pandas as pd\n",
    "from scipy.optimize import minimize\n",
    "from importlib_resources import files\n",
    "\n",
    "from qokit.qaoa_objective_labs import get_qaoa_labs_objective\n",
    "from qokit.parameter_utils import (\n",
    "    from_fourier_basis,\n",
    "    to_fourier_basis,\n",
    "    extrapolate_parameters_in_fourier_basis,\n",
    ")"
   ]
  },
  {
   "cell_type": "code",
   "execution_count": 2,
   "id": "66a2ad2c-e3a9-4c3b-bade-8f61724a1ad6",
   "metadata": {},
   "outputs": [],
   "source": [
    "# get best known parameters\n",
    "df = pd.read_json(\n",
    "    files(\"qokit.assets\").joinpath(\"best_known_QAOA_parameters_wrt_overlap.json\"),\n",
    "    orient='index'\n",
    ")"
   ]
  },
  {
   "cell_type": "code",
   "execution_count": 3,
   "id": "f9552ff9-7876-4b6b-ad6c-04bbed1f50ce",
   "metadata": {},
   "outputs": [],
   "source": [
    "N = 10"
   ]
  },
  {
   "cell_type": "code",
   "execution_count": 4,
   "id": "178dde1c-5e1b-42fb-96e7-2a81ebba463c",
   "metadata": {},
   "outputs": [
    {
     "name": "stdout",
     "output_type": "stream",
     "text": [
      "Maximum p available for N=10 is 8\n",
      "Success probability at p=8 is 0.5028762135\n"
     ]
    }
   ],
   "source": [
    "p_known = df[df['N'] == N]['p'].max()\n",
    "print(f\"Maximum p available for N={N} is {p_known}\")\n",
    "row = df[(df['N'] == N) & (df['p'] == p_known)].squeeze()\n",
    "print(f\"Success probability at p={p_known} is {row['overlap']}\")"
   ]
  },
  {
   "cell_type": "markdown",
   "id": "b9e6596b-c36b-415b-bf7a-383654aabf4b",
   "metadata": {},
   "source": [
    "We will try optimizing further!\n",
    "\n",
    "Specifically, we will extrapolate the parameters in the fourier basis using the interpolation scheme of https://arxiv.org/abs/1812.01041 and then optimize in the fourier basis"
   ]
  },
  {
   "cell_type": "code",
   "execution_count": 5,
   "id": "fdd0751e-bb07-42a7-be0b-2259035d3971",
   "metadata": {},
   "outputs": [
    {
     "name": "stderr",
     "output_type": "stream",
     "text": [
      "/opt/omniai/work/instance1/jupyter/jpmc-argonne-quantum-optimization/qokit/qaoa_objective.py:63: UserWarning: CUDA is NOT available, using cfurx simulator\n",
      "  warnings.warn(f\"CUDA is NOT available, using {simulator} simulator\")\n"
     ]
    },
    {
     "name": "stdout",
     "output_type": "stream",
     "text": [
      "Success probability at p=9 before optimization is 0.49333386759027675\n"
     ]
    }
   ],
   "source": [
    "p = p_known+1\n",
    "\n",
    "beta = row['beta']\n",
    "gamma = row['gamma']\n",
    "\n",
    "u, v = to_fourier_basis(gamma, beta)\n",
    "init_u, init_v = extrapolate_parameters_in_fourier_basis(u, v, p, 1)\n",
    "init_freq = np.hstack([init_u, init_v])\n",
    "\n",
    "\n",
    "f = get_qaoa_labs_objective(N, p, parameterization=\"freq\", objective='overlap')\n",
    "\n",
    "print(f\"Success probability at p={p} before optimization is {1-f(init_freq)}\")\n",
    "res = minimize(f, init_freq, method='COBYLA', options={'rhobeg':0.01 / N})"
   ]
  },
  {
   "cell_type": "code",
   "execution_count": 6,
   "id": "66e4fbfe-cd89-4b38-b7da-6411aa7ec062",
   "metadata": {},
   "outputs": [
    {
     "name": "stdout",
     "output_type": "stream",
     "text": [
      "Success probability at p=9 after optimization is 0.5243661480217591\n"
     ]
    },
    {
     "name": "stderr",
     "output_type": "stream",
     "text": [
      "/opt/omniai/work/instance1/jupyter/jpmc-argonne-quantum-optimization/qokit/qaoa_objective.py:63: UserWarning: CUDA is NOT available, using cfurx simulator\n",
      "  warnings.warn(f\"CUDA is NOT available, using {simulator} simulator\")\n"
     ]
    }
   ],
   "source": [
    "beta, gamma = from_fourier_basis(res.x[:p], res.x[p:])\n",
    "f = get_qaoa_labs_objective(N, p, parameterization=\"gamma beta\", objective='overlap')\n",
    "\n",
    "print(f\"Success probability at p={p} after optimization is {1-f(gamma, beta)}\")"
   ]
  }
 ],
 "metadata": {
  "kernelspec": {
   "display_name": "py38",
   "language": "python",
   "name": "py38"
  },
  "language_info": {
   "codemirror_mode": {
    "name": "ipython",
    "version": 3
   },
   "file_extension": ".py",
   "mimetype": "text/x-python",
   "name": "python",
   "nbconvert_exporter": "python",
   "pygments_lexer": "ipython3",
   "version": "3.8.11"
  }
 },
 "nbformat": 4,
 "nbformat_minor": 5
}
