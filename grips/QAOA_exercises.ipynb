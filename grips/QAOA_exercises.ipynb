{
 "cells": [
  {
   "cell_type": "code",
   "execution_count": null,
   "metadata": {},
   "outputs": [],
   "source": [
    "import numpy as np\n",
    "import matplotlib.pyplot as plt\n",
    "from qiskit import Aer\n",
    "from qiskit.algorithms import QAOA\n",
    "from qiskit_optimization import QuadraticProgram\n",
    "from qiskit_optimization.applications import Maxcut\n",
    "\n",
    "# MaxCut問題の設定\n",
    "num_nodes = 4\n",
    "edges = [(0, 1), (0, 2), (1, 3), (2, 3)]\n",
    "\n",
    "# QuadraticProgramを使用してMaxCut問題を定義\n",
    "qp = QuadraticProgram()\n",
    "x = qp.binary_var_list(num_nodes, name='x')\n",
    "for u, v in edges:\n",
    "    qp.binary_constraint(x[u] + x[v] - 1, sense='>=', rhs=0)\n",
    "\n",
    "# QAOAパラメータの設定\n",
    "p_values = np.arange(1, 5)  # ステップ数pの値を変化させる\n",
    "expectation_values = []\n",
    "\n",
    "# 各p値についてQAOAを実行し期待値を計算\n",
    "for p in p_values:\n",
    "    qaoa = QAOA(quantum_instance=Aer.get_backend('qasm_simulator'), p=p)\n",
    "    result = qaoa.compute_minimum_eigenvalue(qp)\n",
    "    expectation_values.append(result.eigenvalue.real)\n",
    "\n",
    "# 結果のプロット\n",
    "plt.plot(p_values, expectation_values, marker='o')\n",
    "plt.xlabel('Number of QAOA Steps (p)')\n",
    "plt.ylabel('Expectation Value')\n",
    "plt.title('QAOA Performance for MaxCut')\n",
    "plt.grid(True)\n",
    "plt.show()"
   ]
  }
 ],
 "metadata": {
  "kernelspec": {
   "display_name": "qokit",
   "language": "python",
   "name": "python3"
  },
  "language_info": {
   "codemirror_mode": {
    "name": "ipython",
    "version": 3
   },
   "file_extension": ".py",
   "mimetype": "text/x-python",
   "name": "python",
   "nbconvert_exporter": "python",
   "pygments_lexer": "ipython3",
   "version": "3.10.12"
  }
 },
 "nbformat": 4,
 "nbformat_minor": 2
}
