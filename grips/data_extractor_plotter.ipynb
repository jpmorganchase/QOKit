{
 "cells": [
  {
   "cell_type": "markdown",
   "metadata": {},
   "source": [
    "# DataSave Parse\n",
    "I decided to just save the results of all my GPU runs as pickle files, with one file for each run. This notebook is for parsing those files and plotting the results."
   ]
  },
  {
   "cell_type": "code",
   "execution_count": null,
   "metadata": {},
   "outputs": [],
   "source": [
    "import os # For interacting with directories and files\n",
    "import re # For regular expressions\n",
    "import pickle\n",
    "import numpy as np\n",
    "\n",
    "def grab_data(top_directory: str = \"DataSaves\"):\n",
    "    # List of filenames (for example)\n",
    "    filenames = os.listdir(top_directory)\n",
    "    pattern = r'.*N=(\\d+)_p=(\\d+).*\\.pkl'\n",
    "\n",
    "    # Finding all matches\n",
    "    matches = [re.search(pattern, filename) for filename in filenames]\n",
    "    matches = [match for match in matches if match]\n",
    "\n",
    "    # Extracting the filenames and the values of N and p\n",
    "    result = [(match.group(0), int(match.group(1)), int(match.group(2))) for match in matches]\n",
    "    # Sort results by N and p\n",
    "    sorted_result = sorted(result, key=lambda x: (x[1], x[2]))\n",
    "\n",
    "    max_N = max(item[1] for item in sorted_result)\n",
    "    max_p = max(item[2] for item in sorted_result)\n",
    "\n",
    "    N_range = range(0,max_N+1)\n",
    "    p_range = range(0,max_p+1)\n",
    "    # N changes with column, p changes with row\n",
    "    N_mesh, p_mesh = np.meshgrid(N_range, p_range)\n",
    "\n",
    "    return_dict = {\n",
    "        \"N_range\" : N_range,\n",
    "        \"p_range\" : p_range,\n",
    "        \"N_mesh\" : N_mesh,\n",
    "        \"p_mesh\" : p_mesh,\n",
    "    }\n",
    "\n",
    "\n",
    "    z_value_names = [\"expectation\", \"overlap\", \"runtime\", \"num_QAOA_calls\"]\n",
    "    # For each kind of data needed, loop over the files and\n",
    "    # gather the values in a matrix\n",
    "    for value_name in z_value_names:\n",
    "        z_matrix = np.full((max_N+1, max_p+1), np.nan)\n",
    "        # Extracting data from the sorted pickle files\n",
    "        for filename, N, p in sorted_result:\n",
    "            file_path = os.path.join(\"DataSaves\", filename)\n",
    "            with open(file_path, 'rb') as f:\n",
    "                data = pickle.load(f)\n",
    "\n",
    "                # CHECK THAT THE INDEX ORDER IS CORRECT\n",
    "                z_matrix[p, N] = data[value_name]\n",
    "        return_dict[value_name] = z_matrix\n",
    "\n",
    "    return return_dict\n",
    "\n",
    "\n"
   ]
  },
  {
   "cell_type": "markdown",
   "metadata": {},
   "source": [
    "# Plotting the Data\n",
    "Naive implementation that doesn't do anything specific for each plot."
   ]
  },
  {
   "cell_type": "code",
   "execution_count": null,
   "metadata": {},
   "outputs": [],
   "source": [
    "import matplotlib.pyplot as plt\n",
    "from mpl_toolkits.mplot3d import Axes3D\n",
    "\n",
    "# For interactive plot\n",
    "%matplotlib widget \n",
    "#%matplotlib inline\n",
    "\n",
    "# Grab data from saved files\n",
    "return_dict = grab_data()\n",
    "N_mesh = return_dict[\"N_mesh\"]\n",
    "p_mesh = return_dict[\"p_mesh\"]\n",
    "\n",
    "z_value_names = [\"expectation\", \"overlap\", \"runtime\", \"num_QAOA_calls\"]\n",
    "for value_name in z_value_names:\n",
    "    z_matrix = return_dict[value_name]\n",
    "\n",
    "    # Create a figure\n",
    "    fig = plt.figure()\n",
    "    # Add 3D subplot\n",
    "    ax = fig.add_subplot(111, projection='3d')\n",
    "    # Plot the surface\n",
    "    surf = ax.plot_surface(N_mesh, p_mesh, z_matrix, cmap='viridis')\n",
    "    # Add a color bar which maps values to colors\n",
    "    fig.colorbar(surf)\n",
    "    # Add labels\n",
    "    ax.set_xlabel('Problem Size (N)')\n",
    "    ax.set_ylabel('QAOA Depth (p)')\n",
    "    ax.set_zlabel(value_name)\n",
    "    # Show plot\n",
    "    plt.show()\n",
    "\n"
   ]
  },
  {
   "cell_type": "markdown",
   "metadata": {},
   "source": [
    "# Better Plotting\n",
    "This time, I will make special graphs for each value type.\n",
    "\n"
   ]
  },
  {
   "cell_type": "markdown",
   "metadata": {},
   "source": [
    "# Expectation\n",
    "Given the results I have seen, a ribbon plot might be good for expectation."
   ]
  },
  {
   "cell_type": "code",
   "execution_count": null,
   "metadata": {},
   "outputs": [],
   "source": [
    "import matplotlib.pyplot as plt\n",
    "\n",
    "%matplotlib inline\n",
    "\n",
    "# Grab data from saved files\n",
    "return_dict = grab_data()\n",
    "N_range = return_dict[\"N_range\"]\n",
    "p_mesh = return_dict[\"p_mesh\"]\n",
    "expectations = return_dict[\"expectation\"]\n",
    "expectation_mins = np.min(expectations, axis=0)\n",
    "expectation_maxs = np.max(expectations, axis=0)\n",
    "\n",
    "fig, ax = plt.subplots(dpi=1200)\n",
    "\n",
    "# Plot the ribbon\n",
    "ax.fill_between(N_range, expectation_mins, expectation_maxs, color='skyblue', alpha=0.5, label='Expectation Range')\n",
    "ax.plot(N_range, expectation_mins, color='blue', linestyle='--', label='Max')\n",
    "ax.plot(N_range, expectation_maxs, color='blue', linestyle='--', label='Min')\n",
    "plt.xlabel('Problem Size (N)')\n",
    "plt.ylabel('Expectation')\n",
    "ax.set_xticks(range(0, 21, 5))\n",
    "plt.title('Expectation vs Problem Size (and # QAOA Layers)')\n",
    "plt.legend()\n",
    "plt.show()"
   ]
  },
  {
   "cell_type": "markdown",
   "metadata": {},
   "source": [
    "# Expectation 2\n",
    "Maybe the ribbon plot isn't so good, and it's better to just plot many lines"
   ]
  },
  {
   "cell_type": "code",
   "execution_count": null,
   "metadata": {},
   "outputs": [],
   "source": [
    "import matplotlib.pyplot as plt\n",
    "#%matplotlib inline\n",
    "%matplotlib widget\n",
    "\n",
    "# Grab data from saved files\n",
    "return_dict = grab_data()\n",
    "N_range = return_dict[\"N_mesh\"]\n",
    "p_range = return_dict[\"p_mesh\"]\n",
    "\n",
    "matrix = return_dict[\"expectation\"]\n",
    "#print(matrix.shape)\n",
    "\n",
    "cmap = plt.get_cmap('viridis')\n",
    "\n",
    "#cmap = plt.get_cmap('viridis')\n",
    "#colors = [cmap(i) for i in np.linspace(0, 1, len(N_range))]\n",
    "# Create a figure\n",
    "fig, ax = plt.subplots()\n",
    "ax.set_xlabel(\"Expectation\")\n",
    "ax.set_ylabel('QAOA Depth (p)')\n",
    "for (i, N) in enumerate(range(5)):\n",
    "#for (i, N) in enumerate(N_range):\n",
    "    c_index = -1 + (i / len(N_range))\n",
    "    c_index = 0 if (i < 5) else 1_000_000\n",
    "    color = \"red\" if (i < 5) else \"blue\"\n",
    "    #print(color)\n",
    "    #print(c_index)\n",
    "    print(matrix[:,N])\n",
    "    ax.plot(p_range, matrix[:,N])\n",
    "\n",
    "plt.show()\n"
   ]
  },
  {
   "cell_type": "markdown",
   "metadata": {},
   "source": [
    "## Overlap Plotting\n",
    "For overlap, it is better to plot on log scale"
   ]
  },
  {
   "cell_type": "code",
   "execution_count": null,
   "metadata": {},
   "outputs": [],
   "source": [
    "import matplotlib.pyplot as plt\n",
    "\n",
    "%matplotlib inline\n",
    "\n",
    "# Grab data from saved files\n",
    "return_dict = grab_data()\n",
    "N_range = return_dict[\"N_range\"]\n",
    "p_mesh = return_dict[\"p_mesh\"]\n",
    "matrix = return_dict[\"overlap\"]\n",
    "\n",
    "# Create a figure\n",
    "fig = plt.figure()\n",
    "# Add 3D subplot\n",
    "ax = fig.add_subplot(111, projection='3d')\n",
    "# Plot the surface\n",
    "surf = ax.plot_surface(N_mesh, p_mesh, np.log10(matrix), cmap='viridis')\n",
    "# Add a color bar which maps values to colors\n",
    "fig.colorbar(surf)\n",
    "# Add labels\n",
    "ax.set_xlabel('Problem Size (N)')\n",
    "ax.set_ylabel('QAOA Depth (p)')\n",
    "ax.set_zlabel(\"Log10(Overlap)\")\n",
    "# Show plot\n",
    "plt.show()\n",
    "\n"
   ]
  },
  {
   "cell_type": "markdown",
   "metadata": {},
   "source": [
    "# Number of QAOA Calls"
   ]
  },
  {
   "cell_type": "code",
   "execution_count": null,
   "metadata": {},
   "outputs": [],
   "source": [
    "import matplotlib.pyplot as plt\n",
    "from mpl_toolkits.mplot3d import Axes3D\n",
    "\n",
    "%matplotlib inline\n",
    "\n",
    "# Grab data from saved files\n",
    "return_dict = grab_data()\n",
    "N_mesh = return_dict[\"N_mesh\"]\n",
    "p_mesh = return_dict[\"p_mesh\"]\n",
    "\n",
    "\n",
    "z_matrix = return_dict[\"num_QAOA_calls\"]\n",
    "\n",
    "# Create a figure\n",
    "fig = plt.figure(dpi=1200)\n",
    "# Add 3D subplot\n",
    "ax = fig.add_subplot(111, projection='3d')\n",
    "# Plot the surface\n",
    "surf = ax.plot_surface(N_mesh, p_mesh, z_matrix, cmap='viridis')\n",
    "# Add a color bar which maps values to colors\n",
    "fig.colorbar(surf)\n",
    "# Add labels\n",
    "ax.set_xlabel('Problem Size (N)', fontsize=14, labelpad=5)\n",
    "ax.set_ylabel('QAOA Depth (p)', fontsize=14, labelpad=5)\n",
    "ax.set_zlabel(\"# QAOA Calls\", fontsize=14, labelpad=10)\n",
    "ax.view_init(elev=30, azim=230)  # Elevation angle: 30 degrees, Azimuthal angle: 60 degrees\n",
    "ax.set_xticks(range(0, 21, 5))\n",
    "ax.set_yticks(range(0, 21, 5))\n",
    "# Show plot\n",
    "ax.set_box_aspect(aspect=None, zoom=0.8)\n",
    "plt.tight_layout()\n",
    "plt.show()\n"
   ]
  },
  {
   "cell_type": "code",
   "execution_count": null,
   "metadata": {},
   "outputs": [],
   "source": []
  }
 ],
 "metadata": {
  "kernelspec": {
   "display_name": "qokit",
   "language": "python",
   "name": "python3"
  },
  "language_info": {
   "codemirror_mode": {
    "name": "ipython",
    "version": 3
   },
   "file_extension": ".py",
   "mimetype": "text/x-python",
   "name": "python",
   "nbconvert_exporter": "python",
   "pygments_lexer": "ipython3",
   "version": "3.11.2"
  }
 },
 "nbformat": 4,
 "nbformat_minor": 2
}
