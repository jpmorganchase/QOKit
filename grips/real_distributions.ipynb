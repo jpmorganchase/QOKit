{
 "cells": [
  {
   "cell_type": "markdown",
   "metadata": {},
   "source": [
    "# Gathering Real Distribution Data"
   ]
  },
  {
   "cell_type": "code",
   "execution_count": null,
   "metadata": {},
   "outputs": [],
   "source": [
    "from QAOA_simulator import QAOA_run, get_simulator\n",
    "import networkx as nx\n",
    "import qokit.maxcut as mc\n",
    "import numpy as np\n",
    "import matplotlib.pyplot as plt\n",
    "\n",
    "N = 6\n",
    "p = 1\n",
    "\n",
    "G = nx.erdos_renyi_graph(N, 0.5)\n",
    "ising_model = mc.get_maxcut_terms(G)\n",
    "sim = get_simulator(N, ising_model)\n",
    "init_gamma, init_beta = np.random.rand(2, p)\n",
    "# Get the costs using QOKit (can benefit from GPU acceleration)\n",
    "costs = sim.get_cost_diagonal()\n",
    "\n",
    "unique_costs, cost_counts = np.unique(costs, return_counts=True)\n",
    "cost_probabilities = cost_counts / 2**N\n",
    "\n",
    "print(f\"Costs: {costs}\")\n",
    "print(f\"# Unique Costs: {unique_costs}\")\n",
    "print(f\"Cost Counts: {cost_counts}\")\n",
    "print(f\"Cost Probabilities: {cost_probabilities}\")\n"
   ]
  },
  {
   "cell_type": "markdown",
   "metadata": {},
   "source": [
    "# Let's Recreate FIG 2\n",
    "From the parameter setting heuristic paper"
   ]
  },
  {
   "cell_type": "code",
   "execution_count": null,
   "metadata": {},
   "outputs": [],
   "source": [
    "from QAOA_simulator import QAOA_run, get_simulator\n",
    "import networkx as nx\n",
    "import qokit.maxcut as mc\n",
    "import numpy as np\n",
    "import matplotlib.pyplot as plt\n",
    "\n",
    "def get_real_distributions(graphs, N):\n",
    "    max_num_edges = N*(N-1) // 2\n",
    "    \n",
    "    num_graphs = len(graphs)\n",
    "    num_possible_bitstrings = 2**N\n",
    "    num_possible_costs = max_num_edges+1\n",
    "    max_hamming_distance = N\n",
    "\n",
    "    # This could be a lot more efficient\n",
    "\n",
    "    all_costs = np.zeros((num_graphs, num_possible_bitstrings))\n",
    "    real_distributions = np.zeros((num_graphs, num_possible_bitstrings, max_hamming_distance+1, num_possible_costs))\n",
    "    for (i, G) in enumerate(graphs):\n",
    "        ising_model = mc.get_maxcut_terms(G)\n",
    "        sim = get_simulator(N, ising_model)\n",
    "        # Get the costs using QOKit (can benefit from GPU acceleration)\n",
    "        costs = sim.get_cost_diagonal()\n",
    "        all_costs[i,:] = costs\n",
    "\n",
    "        # Loop over the possible bitstrings\n",
    "        for x in range(num_possible_bitstrings):\n",
    "            for y in range(num_possible_bitstrings):\n",
    "                # Compute hamming distance\n",
    "                xor = x ^ y \n",
    "                d = xor.bit_count()\n",
    "                cost_y = int(costs[y])\n",
    "                real_distributions[i, x, d, cost_y] += 1\n",
    "\n",
    "    return all_costs, real_distributions\n",
    "\n",
    "def get_homogeneous_distribution(all_costs, real_distribution_ary):\n",
    "    N_costs = real_distribution_ary.shape[3]\n",
    "    N_distances = real_distribution_ary.shape[2]\n",
    "    homogeneous_distribution = np.zeros((N_costs, N_distances, N_costs))\n",
    "    N_cost_occurences = np.zeros(N_costs)\n",
    "\n",
    "    # Sum n over all bitstrings with cost c'\n",
    "    for (graph_i, bitstring_i, distance_i, cost_i) in np.ndindex(real_distribution_ary.shape):\n",
    "        cost_x = int(all_costs[graph_i, bitstring_i])\n",
    "        N_cost_occurences[cost_x] += 1\n",
    "        homogeneous_distribution[cost_x, distance_i, cost_i] += real_distribution_ary[graph_i, bitstring_i, distance_i, cost_i]\n",
    "\n",
    "    # Divide by number of bitstrings for which c(x) = c'\n",
    "    for cost_x in range(N_costs):\n",
    "        if N_cost_occurences[cost_x] != 0:\n",
    "            homogeneous_distribution[cost_x, :, :] /= N_cost_occurences[cost_x]\n",
    "\n",
    "\n",
    "    \n",
    "\n",
    "    return homogeneous_distribution\n",
    "\n",
    "def heatmap_real_distribution(real_distribution, bitstring):\n",
    "    plt.imshow(real_distribution[bitstring,:,:])\n",
    "    plt.xlabel(\"Cost\")\n",
    "    plt.ylabel(\"Hamming Distance\")\n",
    "    plt.title(f\"n(x; d, c), x={bin(bitstring)}\")\n",
    "    plt.show()\n",
    "\n"
   ]
  },
  {
   "cell_type": "code",
   "execution_count": null,
   "metadata": {},
   "outputs": [],
   "source": [
    "N = 3\n",
    "P = 1\n",
    "G = nx.erdos_renyi_graph(N, P, seed=1)\n",
    "nx.draw(G, with_labels=True)\n",
    "all_costs, real_distribution = get_real_distributions([G], N)\n",
    "#print(real_distribution.shape)\n",
    "#print(real_distribution[0,:,:,:])\n",
    "for i in range(real_distribution.shape[1]):\n",
    "    print(f\"Bitstring: {bin(i)}\")\n",
    "    print(real_distribution[0,i,:,:])"
   ]
  },
  {
   "cell_type": "code",
   "execution_count": null,
   "metadata": {},
   "outputs": [],
   "source": []
  },
  {
   "cell_type": "markdown",
   "metadata": {},
   "source": [
    "# Generating Graphs, Distributions"
   ]
  },
  {
   "cell_type": "code",
   "execution_count": null,
   "metadata": {},
   "outputs": [],
   "source": [
    "N = 10\n",
    "P = 1/3\n",
    "N_random_graphs = 30\n",
    "random_graphs = [nx.erdos_renyi_graph(N, P, seed=i) for i in range(N_random_graphs)]\n",
    "all_costs, real_distributions = get_real_distributions(random_graphs, N)\n",
    "\n",
    "homogeneous_distribution = get_homogeneous_distribution(all_costs, real_distributions)\n",
    "\n",
    "individual_homogeneous_distributions = []\n",
    "for i in range(N_random_graphs):\n",
    "    single_real_distribution = real_distributions[i,:,:,:]\n",
    "    new_shape = (-1,) + single_real_distribution.shape\n",
    "    single_costs = np.reshape(all_costs[i,:], (1, -1))\n",
    "    single_real_distribution = np.reshape(single_real_distribution, new_shape)\n",
    "    individual_homogeneous_distributions.append(get_homogeneous_distribution(single_costs, single_real_distribution))\n",
    "\n",
    "all_homogeneous_distributions_ary = np.stack(individual_homogeneous_distributions)\n",
    "avg_homogeneous_distribution = np.mean(all_homogeneous_distributions_ary, axis=0)\n",
    "stddev_homogeneous_distribution = np.std(all_homogeneous_distributions_ary, axis=0)\n",
    "avg_stddev_homogeneous_distribution = stddev_homogeneous_distribution / avg_homogeneous_distribution "
   ]
  },
  {
   "cell_type": "markdown",
   "metadata": {},
   "source": [
    "# Homogeneous Displays"
   ]
  },
  {
   "cell_type": "code",
   "execution_count": null,
   "metadata": {},
   "outputs": [],
   "source": [
    "\n",
    "import matplotlib\n",
    "import matplotlib.pyplot as plt \n",
    "from plot_utils import plot_3d_scatter\n",
    "%matplotlib widget \n",
    "#%matplotlib inline\n",
    "\n",
    "#heatmap_real_distribution(real_distribution[0,:,:,:], 0)\n",
    "\n",
    "xs = np.arange(real_distributions.shape[2])\n",
    "ys = np.arange(real_distributions.shape[3])[0:20]\n",
    "graph_index = 0\n",
    "cost = 1\n",
    "plot_3d_scatter(xs, ys, homogeneous_distribution[cost,:,:], f\"N(c';d,c), c'={cost}, (average over {N_random_graphs} graphs)\", \"Hamming Distance\", \"Cost\", \"N\")\n",
    "plt.show()\n",
    "\n",
    "#stddev_avg_real_distribution = np.std(real_distribution, axis=0) / avg_real_distribution\n",
    "##plot_3d_scatter(xs, ys, stddev_avg_real_distribution[7,:,:], f\"stddev/avg n(x;d,c), x={bin(bitstring)}, C={bitstring_cost}, (average over {N_random_graphs} graphs)\", \"Hamming Distance\", \"Cost\", \"Stddev / Avg\")\n",
    "#fig = plt.figure()\n",
    "#ax = fig.add_subplot()\n",
    "#im = ax.imshow(stddev_avg_real_distribution[7,:,:20], origin=\"lower\")\n",
    "#fig.colorbar(im, ax=ax)\n",
    "#ax.set_title(f\"stddev/avg n(x;d,c), x={bin(bitstring)}, C={bitstring_cost}, (average over {N_random_graphs} graphs)\")\n",
    "#ax.set_xlabel(\"Hamming Distance\")\n",
    "#ax.set_ylabel(\"Cost\")\n"
   ]
  },
  {
   "cell_type": "markdown",
   "metadata": {},
   "source": [
    "# Real Visualitzations"
   ]
  },
  {
   "cell_type": "code",
   "execution_count": null,
   "metadata": {},
   "outputs": [],
   "source": [
    "import matplotlib\n",
    "import matplotlib.pyplot as plt \n",
    "from plot_utils import plot_3d_scatter\n",
    "%matplotlib widget \n",
    "#%matplotlib inline\n",
    "\n",
    "#heatmap_real_distribution(real_distribution[0,:,:,:], 0)\n",
    "\n",
    "xs = np.arange(real_distributions.shape[2])\n",
    "ys = np.arange(real_distributions.shape[3])[0:20]\n",
    "graph_index = 0\n",
    "bitstring = 7\n",
    "bitstring_cost = all_costs[graph_index, bitstring]\n",
    "plot_3d_scatter(xs, ys, real_distributions[graph_index, bitstring, :, :], f\"n(x;d,c), x={bin(bitstring)}, C={bitstring_cost}, (graph {graph_index})\", \"Hamming Distance\", \"Cost\", \"# Occurences\")\n",
    "\n",
    "avg_real_distribution = np.mean(real_distributions, axis=0)\n",
    "plot_3d_scatter(xs, ys, avg_real_distribution[bitstring,:,:], f\"n(x;d,c), x={bin(bitstring)}, C={bitstring_cost}, (average over {N_random_graphs} graphs)\", \"Hamming Distance\", \"Cost\", \"# Occurences\")\n",
    "plt.show()\n",
    "\n",
    "#plot_3d_scatter(xs, ys, stddev_avg_real_distribution[7,:,:], f\"stddev/avg n(x;d,c), x={bin(bitstring)}, C={bitstring_cost}, (average over {N_random_graphs} graphs)\", \"Hamming Distance\", \"Cost\", \"Stddev / Avg\")\n",
    "fig = plt.figure()\n",
    "ax = fig.add_subplot()\n",
    "im = ax.imshow(stddev_avg_real_distribution[bitstring,:,:20], origin=\"lower\")\n",
    "fig.colorbar(im, ax=ax)\n",
    "ax.set_title(f\"stddev/avg n(x;d,c), x={bin(bitstring)}, C={bitstring_cost}, (average over {N_random_graphs} graphs)\")\n",
    "ax.set_xlabel(\"Cost\")\n",
    "ax.set_ylabel(\"Hamming Distance\")\n"
   ]
  },
  {
   "cell_type": "markdown",
   "metadata": {},
   "source": [
    "# StdDev / Average (Fig 2)\n",
    "### Real Version"
   ]
  },
  {
   "cell_type": "code",
   "execution_count": null,
   "metadata": {},
   "outputs": [],
   "source": [
    "avg_real_distribution = np.mean(real_distributions, axis=0)\n",
    "stddev_avg_real_distribution = np.std(real_distribution, axis=0) / avg_real_distribution\n",
    "\n",
    "bitstring = 7\n",
    "\n",
    "#print(avg_stddev_homogeneous_distribution[7,:17,:11])\n",
    "fig = plt.figure()\n",
    "ax = fig.add_subplot()\n",
    "im = ax.imshow(stddev_avg_real_distribution[bitstring,:11,:17], origin=\"lower\")\n",
    "fig.colorbar(im, ax=ax)\n",
    "ax.set_title(f\"Dev/Avg n from bitstring {bin(bitstring)}\")\n",
    "ax.set_xlabel(\"Cost\")\n",
    "ax.set_ylabel(\"Hamming Distance\")\n"
   ]
  },
  {
   "cell_type": "markdown",
   "metadata": {},
   "source": [
    "### Homogeneous Version"
   ]
  }
 ],
 "metadata": {
  "kernelspec": {
   "display_name": "qokit_venv",
   "language": "python",
   "name": "python3"
  },
  "language_info": {
   "codemirror_mode": {
    "name": "ipython",
    "version": 3
   },
   "file_extension": ".py",
   "mimetype": "text/x-python",
   "name": "python",
   "nbconvert_exporter": "python",
   "pygments_lexer": "ipython3",
   "version": "3.10.12"
  }
 },
 "nbformat": 4,
 "nbformat_minor": 2
}
