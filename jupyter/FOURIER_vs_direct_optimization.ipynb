{
 "cells": [
  {
   "cell_type": "code",
   "execution_count": 1,
   "id": "b947ffc2-2eee-4bb4-956a-a451032ae3f3",
   "metadata": {},
   "outputs": [],
   "source": [
    "from matplotlib import rc\n",
    "# rc('font',**{'family':'sans-serif','sans-serif':['Helvetica']})\n",
    "rc('font',**{'family':'serif','serif':['Times']})\n",
    "rc('text', usetex=True)"
   ]
  },
  {
   "cell_type": "code",
   "execution_count": 12,
   "id": "98960271-23b2-48a7-a2cf-d120bf0c1d99",
   "metadata": {},
   "outputs": [],
   "source": [
    "import pandas as pd\n",
    "import json\n",
    "import matplotlib.pyplot as plt\n",
    "import seaborn as sns\n",
    "\n",
    "cmap = sns.color_palette(\"colorblind\")"
   ]
  },
  {
   "cell_type": "code",
   "execution_count": 5,
   "id": "e54f499c-2f8d-4cc0-a042-f9a25835437f",
   "metadata": {},
   "outputs": [],
   "source": [
    "df = pd.read_json(\"../qokit/assets/FOURIER_vs_direct_optimization.json\", orient='index')"
   ]
  },
  {
   "cell_type": "code",
   "execution_count": 15,
   "id": "8b6b559d-c9a9-48a0-a97a-e572199d6f18",
   "metadata": {},
   "outputs": [
    {
     "data": {
      "image/png": "[encoded data removed]",
      "text/plain": [
       "<Figure size 400x247.213 with 1 Axes>"
      ]
     },
     "metadata": {},
     "output_type": "display_data"
    }
   ],
   "source": [
    "import matplotlib.pyplot as plt\n",
    "\n",
    "f, ax = plt.subplots(figsize=(4, 2.47213))\n",
    "df[df[\"N\"] > 12].sort_values('MF FOURIER / MF directly optimized')['MF FOURIER / MF directly optimized'].dropna().reset_index(drop=True).reset_index().plot(\n",
    "    ax=ax, kind='scatter',x='index', y='MF FOURIER / MF directly optimized', color=cmap[0]\n",
    ")\n",
    "ax.set_ylabel(r'$\\langle C\\rangle_{\\mbox{MF}}^{\\mbox{F}} / \\langle C\\rangle_{\\mbox{MF}}^{\\mbox{O}}$')\n",
    "ax.set_xlabel('Index')\n",
    "ax.set_xticks([])\n",
    "plt.axhline(1, c='k')\n",
    "plt.tight_layout()\n",
    "plt.savefig('figures/FOURIER_vs_directly_optimized.pdf')"
   ]
  },
  {
   "cell_type": "code",
   "execution_count": 16,
   "id": "b987405b-02f0-410e-b322-85710e37fa8e",
   "metadata": {},
   "outputs": [
    {
     "data": {
      "text/plain": [
       "count    58.000000\n",
       "mean      1.000479\n",
       "std       0.003284\n",
       "min       0.994755\n",
       "25%       0.999886\n",
       "50%       0.999998\n",
       "75%       1.000000\n",
       "max       1.016652\n",
       "Name: MF FOURIER / MF directly optimized, dtype: float64"
      ]
     },
     "execution_count": 16,
     "metadata": {},
     "output_type": "execute_result"
    }
   ],
   "source": [
    "df['MF FOURIER / MF directly optimized'].describe()"
   ]
  },
  {
   "cell_type": "code",
   "execution_count": null,
   "id": "3cfc6f76-d177-4703-a8d0-79439628ff58",
   "metadata": {},
   "outputs": [],
   "source": []
  }
 ],
 "metadata": {
  "kernelspec": {
   "display_name": "py38",
   "language": "python",
   "name": "py38"
  },
  "language_info": {
   "codemirror_mode": {
    "name": "ipython",
    "version": 3
   },
   "file_extension": ".py",
   "mimetype": "text/x-python",
   "name": "python",
   "nbconvert_exporter": "python",
   "pygments_lexer": "ipython3",
   "version": "3.8.11"
  }
 },
 "nbformat": 4,
 "nbformat_minor": 5
}
