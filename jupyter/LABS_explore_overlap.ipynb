{
 "cells": [
  {
   "cell_type": "code",
   "execution_count": null,
   "id": "df4495ab-b844-495f-b8db-ea3b0e632504",
   "metadata": {},
   "outputs": [],
   "source": [
    "import pickle\n",
    "import pandas as pd\n",
    "from pathlib import Path\n",
    "import matplotlib.pyplot as plt\n",
    "import numpy as np"
   ]
  },
  {
   "cell_type": "code",
   "execution_count": null,
   "id": "92aa656f-bf56-4de0-b02d-f387df7003ee",
   "metadata": {},
   "outputs": [],
   "source": [
    "import sys\n",
    "sys.path.append(\"../scripts/\")"
   ]
  },
  {
   "cell_type": "code",
   "execution_count": null,
   "id": "52d8bb36-9187-4ca5-b9f2-5878eb91a68b",
   "metadata": {},
   "outputs": [],
   "source": [
    "rows = []\n",
    "for fname in Path(\"../scripts/data_fourier/\").glob(\"fourier_overlap_*\"):\n",
    "    rows.append(pickle.load(open(fname, \"rb\")))"
   ]
  },
  {
   "cell_type": "code",
   "execution_count": null,
   "id": "a7ae8516-cd12-43f5-8d59-ef1b06e0e8b5",
   "metadata": {},
   "outputs": [],
   "source": [
    "df_f = pd.DataFrame(rows, columns=rows[0].keys())\n",
    "df_f['overlap'] = df_f.apply(\n",
    "    lambda row: row['overlap'],\n",
    "    axis=1\n",
    ")"
   ]
  },
  {
   "cell_type": "markdown",
   "id": "3a5f16e5-9e90-40db-9017-f192329dac7d",
   "metadata": {},
   "source": [
    "# Overlap for fourier start"
   ]
  },
  {
   "cell_type": "code",
   "execution_count": null,
   "id": "88ea7e72-2b2d-4935-b208-8e6192c0666e",
   "metadata": {},
   "outputs": [],
   "source": [
    "df_f[df_f['N'] >= 6][['N','p','overlap']].sort_values('p').set_index('p').groupby('N')['overlap'].plot(legend=True)\n",
    "plt.xlabel('p')\n",
    "plt.ylabel('overlap')\n",
    "plt.axhline(y = 0.1, color = 'b', linestyle = '--')\n",
    "plt.axhline(y = 0.01, color = 'b', linestyle = '--')\n",
    "plt.axhline(y = 0.02, color = 'b', linestyle = '--')\n",
    "plt.axhline(y = 0.5, color = 'b', linestyle = '--')\n",
    "#plt.axvline(x = 1, color = 'b', linestyle = ':')\n",
    "plt.yscale('log')\n",
    "plt.grid()\n",
    "plt.legend(loc='center left', bbox_to_anchor=(1, 0.5))\n",
    "# plt.axvline(x = df_f[df_f['N'] == 7][df_f.columns[1]].max(), color = 'b', linestyle = ':')\n",
    "plt.title(f\"Overlap vs p : Fourier Initialization\", c='b')\n"
   ]
  },
  {
   "cell_type": "code",
   "execution_count": null,
   "id": "76689df9-d3ff-4e64-ba21-e5b4cee1a1c5",
   "metadata": {},
   "outputs": [],
   "source": [
    "df_f[df_f['N'] == 24][['N','p','overlap']].sort_values('p')"
   ]
  },
  {
   "cell_type": "markdown",
   "id": "59ad6ae5-8697-49c7-83fd-167fcd090ed0",
   "metadata": {},
   "source": [
    "# Gamma and beta trajectory"
   ]
  },
  {
   "cell_type": "code",
   "execution_count": null,
   "id": "6499c175-457f-4497-831c-3997608e55d8",
   "metadata": {},
   "outputs": [],
   "source": [
    "\n",
    "# d = df_f\n",
    "# N = 23\n",
    "# max_p = d[d['N'] == N][d.columns[1]].max()\n",
    "# for p in range(2,max_p+1):\n",
    "#     row = d[(d['N'] == N) & (d['p'] == p)].squeeze()\n",
    "#     gamma = -row['gamma']/np.pi\n",
    "#     beta = row['beta']/np.pi\n",
    "\n",
    "#     plt.plot(range(1, row['p']+1), beta, label='beta')\n",
    "#     plt.plot(range(1, row['p']+1), gamma, label='-gamma')\n",
    "#     plt.legend()\n",
    "#     plt.xlabel('N')\n",
    "#     plt.ylabel('angles/pi')\n",
    "#     plt.show()"
   ]
  },
  {
   "cell_type": "markdown",
   "id": "b93661c4-b44f-4a11-b252-2c8944033279",
   "metadata": {},
   "source": [
    "# Scale of N vs p for overlap 0.5"
   ]
  },
  {
   "cell_type": "code",
   "execution_count": null,
   "id": "4bc846ad-63b0-4459-8850-2b145652059f",
   "metadata": {},
   "outputs": [],
   "source": [
    "from sklearn.linear_model import LinearRegression\n",
    "\n",
    "overlap = 0.5\n",
    "n = np.arange(6, 16)\n",
    "p = []\n",
    "for i in n:\n",
    "    d = df_f[df_f['N'] == i][['p','overlap']].sort_values('p')\n",
    "    x = d[d.columns[1]].to_numpy()\n",
    "    idx = next(j for j, val in enumerate(x)\n",
    "                                  if val > overlap)\n",
    "    p.append(df_f[df_f['N'] == i][['p']].sort_values('p').iloc[[idx]].to_numpy()[0][0])\n",
    "plt.xlabel('N')\n",
    "plt.ylabel('p')\n",
    "#plt.yscale('log')\n",
    "plt.plot(n, p, 'o', n, p) \n",
    "\n",
    "\n",
    "# to_fit = np.array([np.log(p / N) for p, N in zip(min_ps[1:], Ns[1:])]).reshape(-1, 1)\n",
    "# Ns_to_fit = np.array(Ns[1:]).reshape(-1, 1)\n",
    "to_fit = np.array([np.log(i / j) for i, j in zip(p, n)]).reshape(-1, 1)\n",
    "Ns_to_fit = np.array(n).reshape(-1, 1)\n",
    "\n",
    "reg = LinearRegression().fit(Ns_to_fit, to_fit)\n",
    "coef = np.round(reg.coef_[0][0], 3)\n",
    "print(coef)\n",
    "min_ps_fit = [N*np.e**(y) for y, N in zip(reg.predict(Ns_to_fit), Ns_to_fit)]\n",
    "plt.plot(n, min_ps_fit, linestyle='dashed', c='r')\n",
    "plt.grid()\n",
    "plt.title(f\"Fit: N*{np.e**reg.coef_[0][0]:.2f}**N (overlap:{overlap})\", c='r')"
   ]
  },
  {
   "cell_type": "markdown",
   "id": "a103b2d9-604a-4606-8689-efdcffcdf9a2",
   "metadata": {},
   "source": [
    "# Scale of N vs p for overlap 0.1"
   ]
  },
  {
   "cell_type": "code",
   "execution_count": null,
   "id": "4c9f36d0-305b-40e8-a787-e27e24ccdae8",
   "metadata": {},
   "outputs": [],
   "source": [
    "from sklearn.linear_model import LinearRegression\n",
    "\n",
    "overlap = 0.1\n",
    "n = np.arange(10, 23)\n",
    "p = []\n",
    "for i in n:\n",
    "    d = df_f[df_f['N'] == i][['p','overlap']].sort_values('p')\n",
    "    x = d[d.columns[1]].to_numpy()\n",
    "    idx = next(j for j, val in enumerate(x)\n",
    "                                  if val > overlap)\n",
    "    p.append(df_f[df_f['N'] == i][['p']].sort_values('p').iloc[[idx]].to_numpy()[0][0])\n",
    "plt.xlabel('N')\n",
    "plt.ylabel('p')\n",
    "#plt.yscale('log')\n",
    "plt.plot(n, p, 'o', n, p) \n",
    "\n",
    "\n",
    "# to_fit = np.array([np.log(p / N) for p, N in zip(min_ps[1:], Ns[1:])]).reshape(-1, 1)\n",
    "# Ns_to_fit = np.array(Ns[1:]).reshape(-1, 1)\n",
    "to_fit = np.array([np.log(i / j) for i, j in zip(p, n)]).reshape(-1, 1)\n",
    "Ns_to_fit = np.array(n).reshape(-1, 1)\n",
    "\n",
    "reg = LinearRegression().fit(Ns_to_fit, to_fit)\n",
    "coef = np.round(reg.coef_[0][0], 3)\n",
    "min_ps_fit = [N*np.e**(y) for y, N in zip(reg.predict(Ns_to_fit), Ns_to_fit)]\n",
    "plt.plot(n, min_ps_fit, linestyle='dashed', c='r')\n",
    "plt.grid()\n",
    "plt.title(f\"Fit: N*{np.e**reg.coef_[0][0]:.2f}**N (overlap:{overlap})\", c='r')"
   ]
  },
  {
   "cell_type": "markdown",
   "id": "df8603dc-d11c-4f7e-9d8e-d2847a5bc6bb",
   "metadata": {},
   "source": [
    "# Scale of N vs p for overlap 0.01"
   ]
  },
  {
   "cell_type": "code",
   "execution_count": null,
   "id": "f00d60e5-9ad0-462b-9a79-51365512e2c8",
   "metadata": {},
   "outputs": [],
   "source": [
    "from sklearn.linear_model import LinearRegression\n",
    "\n",
    "overlap = 0.01\n",
    "n = np.arange(10, 25)\n",
    "p = []\n",
    "for i in n:\n",
    "    d = df_f[df_f['N'] == i][['p','overlap']].sort_values('p')\n",
    "    x = d[d.columns[1]].to_numpy()\n",
    "    idx = next(j for j, val in enumerate(x)\n",
    "                                  if val > overlap)\n",
    "    p.append(df_f[df_f['N'] == i][['p']].sort_values('p').iloc[[idx]].to_numpy()[0][0])\n",
    "plt.xlabel('N')\n",
    "plt.ylabel('p')\n",
    "#plt.yscale('log')\n",
    "plt.plot(n, p, 'o', n, p) \n",
    "\n",
    "\n",
    "# to_fit = np.array([np.log(p / N) for p, N in zip(min_ps[1:], Ns[1:])]).reshape(-1, 1)\n",
    "# Ns_to_fit = np.array(Ns[1:]).reshape(-1, 1)\n",
    "to_fit = np.array([np.log(i / j) for i, j in zip(p, n)]).reshape(-1, 1)\n",
    "Ns_to_fit = np.array(n).reshape(-1, 1)\n",
    "\n",
    "reg = LinearRegression().fit(Ns_to_fit, to_fit)\n",
    "coef = np.round(reg.coef_[0][0], 3)\n",
    "min_ps_fit = [N*np.e**(y) for y, N in zip(reg.predict(Ns_to_fit), Ns_to_fit)]\n",
    "plt.plot(n, min_ps_fit, linestyle='dashed', c='r')\n",
    "plt.grid()\n",
    "plt.title(f\"Fit: N*{np.e**reg.coef_[0][0]:.2f}**N (overlap:{overlap})\", c='r')"
   ]
  },
  {
   "cell_type": "markdown",
   "id": "f4f2d54f-6217-43c4-8006-a3b1cd317231",
   "metadata": {},
   "source": [
    "# Fit the data for target overlap"
   ]
  },
  {
   "cell_type": "code",
   "execution_count": null,
   "id": "31e79a91-cb46-47e5-9a84-7880d9ff6acb",
   "metadata": {},
   "outputs": [],
   "source": [
    "from sklearn.linear_model import LinearRegression\n",
    "\n",
    "def fit_func(coef, p):\n",
    "    return p * np.exp(coef)**p\n",
    "x= []\n",
    "y = []\n",
    "coef = []\n",
    "x_test = np.linspace(1,100, 100)\n",
    "predict_result = []\n",
    "N = np.arange(12, 25)\n",
    "\n",
    "for i in N:\n",
    "    df = df_f[df_f['N'] == i][['p','overlap']].sort_values('p')\n",
    "    y.append(df.iloc[:,1:].values.flatten())\n",
    "    x.append(df.iloc[:,:1].values.flatten())\n",
    "\n",
    "for i in range(len(N)):\n",
    "    to_fit = np.array([np.log(a / b) for a, b in zip(y[i], x[i])]).reshape(-1, 1)\n",
    "    ps_to_fit = x[i].reshape(-1, 1)\n",
    "    reg = LinearRegression().fit(ps_to_fit, to_fit)\n",
    "    coef.append(reg.coef_[0][0])\n",
    "    plt.plot(x[i],y[i], 'o',  markersize=4, label=f\"{i+N[0]}\")\n",
    "    plt.xlabel('p')\n",
    "    plt.ylabel('overlap')\n",
    "    min_ps_fit = [p*np.e**(y) for y, p in zip(reg.predict(x_test.reshape(-1, 1)), x_test.reshape(-1, 1))]\n",
    "    predict_result.append(min_ps_fit)\n",
    "    #min_ps_fit = [p*np.e**(y) for y, p in zip(reg.predict(ps_to_fit), ps_to_fit)]\n",
    "    plt.axhline(y = 0.5, color = 'b', linestyle = ':')\n",
    "    #plt.plot(x[i], min_ps_fit, linestyle='dashed', c='r')\n",
    "    plt.plot(x_test, min_ps_fit, linestyle='dashed', label=f\"{i+N[0]}\")\n",
    "    plt.ylim([1e-4,1])\n",
    "    plt.yscale('log')\n",
    "    plt.grid()\n",
    "    #plt.legend()\n",
    "    plt.legend(loc='center left', bbox_to_anchor=(1, 0.5))\n",
    "    plt.title(f\"Overlap vs p : Linear Regression\", c='b')"
   ]
  },
  {
   "cell_type": "code",
   "execution_count": null,
   "id": "4f22ee1a-3eae-4f47-9f14-eb57c33c64cb",
   "metadata": {},
   "outputs": [],
   "source": [
    "overlap = 0.5\n",
    "p = []\n",
    "for i in range(len(N)):\n",
    "    x = predict_result[i]\n",
    "    p.append(next(j for j, val in enumerate(x)\n",
    "                                  if val > overlap))\n",
    "plt.xlabel('N')\n",
    "plt.ylabel('p')\n",
    "#plt.yscale('log')\n",
    "plt.plot(N, p, 'o', N, p) \n",
    "\n",
    "to_fit = np.array([np.log(i / j) for i, j in zip(p, N)]).reshape(-1, 1)\n",
    "Ns_to_fit = np.array(N).reshape(-1, 1)\n",
    "\n",
    "reg = LinearRegression().fit(Ns_to_fit, to_fit)\n",
    "coef = np.round(reg.coef_[0][0], 3)\n",
    "min_ps_fit = [N*np.e**(y) for y, N in zip(reg.predict(Ns_to_fit), Ns_to_fit)]\n",
    "plt.plot(N, min_ps_fit, linestyle='dashed', c='r')\n",
    "plt.grid()\n",
    "plt.title(f\"Fit: N*{np.e**reg.coef_[0][0]:.3f}**N (overlap:{overlap})\", c='r')"
   ]
  },
  {
   "cell_type": "code",
   "execution_count": null,
   "id": "cd0520e3-e3a2-4d21-a0fd-bc7b4dd2a763",
   "metadata": {},
   "outputs": [],
   "source": []
  }
 ],
 "metadata": {
  "kernelspec": {
   "display_name": "py38",
   "language": "python",
   "name": "py38"
  },
  "language_info": {
   "codemirror_mode": {
    "name": "ipython",
    "version": 3
   },
   "file_extension": ".py",
   "mimetype": "text/x-python",
   "name": "python",
   "nbconvert_exporter": "python",
   "pygments_lexer": "ipython3",
   "version": "3.8.11"
  }
 },
 "nbformat": 4,
 "nbformat_minor": 5
}
