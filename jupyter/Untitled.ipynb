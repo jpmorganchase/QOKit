{
 "cells": [
  {
   "cell_type": "code",
   "execution_count": 1,
   "id": "c8d878da-8702-443b-8f4b-26c0834ed360",
   "metadata": {},
   "outputs": [],
   "source": [
    "import numpy as np\n",
    "from functools import partial\n",
    "from scipy.optimize import minimize"
   ]
  },
  {
   "cell_type": "code",
   "execution_count": 25,
   "id": "d379fac2-a92d-477f-b12f-814d772d95c2",
   "metadata": {},
   "outputs": [],
   "source": [
    "def diff_between_c12_and_c13(abc,d=None,e=None):\n",
    "    a,b,c = abc\n",
    "    C12 = np.cos(2*b)*np.sin(2*a)*np.sin(d) + np.cos(2*a)*np.cos(e)*np.sin(2*b)*np.sin(d)\n",
    "    C23 = np.cos(2*c)*np.cos(d)*np.sin(2*b)*np.sin(e) + np.cos(2*b)*np.sin(2*c)*np.sin(e)\n",
    "    \n",
    "    hatC12 = np.cos(2*b)*np.sin(2*a)*np.sin(d) + np.cos(2*a)*np.cos(d)*np.sin(2*b)*np.sin(d)\n",
    "    hatC23 = np.cos(2*a)*np.cos(d)*np.sin(2*b)*np.sin(d) + np.cos(2*b)*np.sin(2*a)*np.sin(d)\n",
    "    return (C12+C23) ** 2 - (hatC12 + hatC23) ** 2\n",
    "\n",
    "f = partial(diff_between_c12_and_c13, d=np.pi/2.5, e=np.pi/3)\n",
    "\n",
    "res = minimize(f, x0=np.random.uniform(0, np.pi, 3) ,method='COBYLA')"
   ]
  },
  {
   "cell_type": "code",
   "execution_count": 79,
   "id": "022ed290-fd9b-4f0a-9157-03529035bcaf",
   "metadata": {},
   "outputs": [
    {
     "data": {
      "text/plain": [
       "     fun: -1571749.781239093\n",
       "   maxcv: 0.0\n",
       " message: 'Maximum number of function evaluations has been exceeded.'\n",
       "    nfev: 1000\n",
       "  status: 2\n",
       " success: False\n",
       "       x: array([-32.64570424, -10.15501576,  77.24576005,  61.51154957,\n",
       "        10.10484288, 886.49604618])"
      ]
     },
     "execution_count": 79,
     "metadata": {},
     "output_type": "execute_result"
    }
   ],
   "source": [
    "def diff_between_c12_and_c13(abcdet):\n",
    "    a,b,c,d,e,t = abcdet\n",
    "    C12 = np.cos(2*b)*np.sin(2*a)*np.sin(d) + np.cos(2*a)*np.cos(e)*np.sin(2*b)*np.sin(d)\n",
    "    C23 = np.cos(2*c)*np.cos(d)*np.sin(2*b)*np.sin(e) + np.cos(2*b)*np.sin(2*c)*np.sin(e)\n",
    "    \n",
    "    hatC12 = np.cos(2*b)*np.sin(2*a)*np.sin(d) + np.cos(2*a)*np.cos(d)*np.sin(2*b)*np.sin(d)\n",
    "    hatC23 = np.cos(2*a)*np.cos(d)*np.sin(2*b)*np.sin(d) + np.cos(2*b)*np.sin(2*a)*np.sin(d)\n",
    "    return hatC12 + hatC23 - C12 - C23 + 2*(C12-C23-t**2)\n",
    "\n",
    "\n",
    "res = minimize(diff_between_c12_and_c13, x0=np.random.uniform(0, np.pi, 6) ,method='COBYLA')\n",
    "res"
   ]
  },
  {
   "cell_type": "code",
   "execution_count": 3,
   "id": "72bce367-79c5-4683-8aca-6ac45cd1d9b7",
   "metadata": {},
   "outputs": [
    {
     "name": "stdout",
     "output_type": "stream",
     "text": [
      "0.6484341962666197 > -0.09540704524421678\n",
      "0.553027151022403 > -0.23610499106168334\n"
     ]
    }
   ],
   "source": [
    "# a,b,c,d,e = res.x[:5]\n",
    "a,b,c,d,e = [-32.64570424, -10.15501576,  77.24576005,  61.51154957, 10.10484288]\n",
    "\n",
    "C12 = np.cos(2*b)*np.sin(2*a)*np.sin(d) + np.cos(2*a)*np.cos(e)*np.sin(2*b)*np.sin(d)\n",
    "C23 = np.cos(2*c)*np.cos(d)*np.sin(2*b)*np.sin(e) + np.cos(2*b)*np.sin(2*c)*np.sin(e)\n",
    "\n",
    "hatC12 = np.cos(2*b)*np.sin(2*a)*np.sin(d) + np.cos(2*a)*np.cos(d)*np.sin(2*b)*np.sin(d)\n",
    "hatC23 = np.cos(2*a)*np.cos(d)*np.sin(2*b)*np.sin(d) + np.cos(2*b)*np.sin(2*a)*np.sin(d)\n",
    "\n",
    "print(f\"{C12} > {C23}\")\n",
    "print(f\"{C12+C23} > {hatC12+hatC23}\")"
   ]
  },
  {
   "cell_type": "code",
   "execution_count": 90,
   "id": "2f961703-36c2-459d-a63f-0bf9cc4eb6b8",
   "metadata": {},
   "outputs": [
    {
     "data": {
      "text/plain": [
       "(0.6484341962666197, -0.09540704524421678, 0.553027151022403)"
      ]
     },
     "execution_count": 90,
     "metadata": {},
     "output_type": "execute_result"
    }
   ],
   "source": [
    "C12, C23, C12+C23"
   ]
  },
  {
   "cell_type": "code",
   "execution_count": 91,
   "id": "64ab3259-1ec7-4285-8cb0-ec0021f54707",
   "metadata": {},
   "outputs": [
    {
     "data": {
      "text/plain": [
       "(-0.11805249553084167, -0.11805249553084167, -0.23610499106168334)"
      ]
     },
     "execution_count": 91,
     "metadata": {},
     "output_type": "execute_result"
    }
   ],
   "source": [
    "hatC12, hatC23, hatC12 + hatC23"
   ]
  },
  {
   "cell_type": "code",
   "execution_count": null,
   "id": "cc23481d-6bcf-4a9a-820f-40e582cd6e8d",
   "metadata": {},
   "outputs": [],
   "source": []
  },
  {
   "cell_type": "code",
   "execution_count": null,
   "id": "09fe27c5-8919-407a-8ca0-d84a599501c8",
   "metadata": {},
   "outputs": [],
   "source": []
  },
  {
   "cell_type": "code",
   "execution_count": 27,
   "id": "a00152fc-85c8-4546-9036-c331188433e3",
   "metadata": {},
   "outputs": [
    {
     "data": {
      "text/plain": [
       "-1.8170818620605405"
      ]
     },
     "execution_count": 27,
     "metadata": {},
     "output_type": "execute_result"
    }
   ],
   "source": [
    "diff_between_c12_and_c13([2.35615628, 1.57092361, 0.78540528], d=np.pi/3, e=np.pi/2.5)"
   ]
  },
  {
   "cell_type": "code",
   "execution_count": 28,
   "id": "5c0e3d87-19d7-4ed9-9f1c-02e045bd115c",
   "metadata": {},
   "outputs": [
    {
     "data": {
      "text/plain": [
       "(0.5000000000000001, 0.3090169943749475)"
      ]
     },
     "execution_count": 28,
     "metadata": {},
     "output_type": "execute_result"
    }
   ],
   "source": [
    "a,b,c = [0.78532918, 3.14150268, 2.35628661]\n",
    "d=np.pi/2.5\n",
    "e=np.pi/3\n",
    "np.cos(e), np.cos(d)"
   ]
  },
  {
   "cell_type": "code",
   "execution_count": 30,
   "id": "21e76580-0626-4d84-ac7f-839f2199b9a8",
   "metadata": {},
   "outputs": [
    {
     "data": {
      "text/plain": [
       "(1.8170818639768356,\n",
       " 0.08503109610248893,\n",
       " 0.9510564800396623,\n",
       " -0.8660253839371733)"
      ]
     },
     "execution_count": 30,
     "metadata": {},
     "output_type": "execute_result"
    }
   ],
   "source": [
    "C12 = np.cos(2*b)*np.sin(2*a)*np.sin(d) + np.cos(2*a)*np.cos(e)*np.sin(2*b)*np.sin(d)\n",
    "C23 = np.cos(2*c)*np.cos(d)*np.sin(2*b)*np.sin(e) + np.cos(2*b)*np.sin(2*c)*np.sin(e)\n",
    "C12-C23, C12+C23, C12, C23"
   ]
  },
  {
   "cell_type": "code",
   "execution_count": 31,
   "id": "c3a7d0c5-7e92-44af-a5cb-41fe392784c7",
   "metadata": {},
   "outputs": [
    {
     "data": {
      "text/plain": [
       "(0.78532918, 3.14150268, 0.78532918, 1.2566370614359172, 1.2566370614359172)"
      ]
     },
     "execution_count": 31,
     "metadata": {},
     "output_type": "execute_result"
    }
   ],
   "source": [
    "c=a\n",
    "e=d\n",
    "a,b,c,d,e"
   ]
  },
  {
   "cell_type": "code",
   "execution_count": 32,
   "id": "dc55a21a-4f39-4997-9824-0d923510dddd",
   "metadata": {},
   "outputs": [
    {
     "data": {
      "text/plain": [
       "0.951056484549082"
      ]
     },
     "execution_count": 32,
     "metadata": {},
     "output_type": "execute_result"
    }
   ],
   "source": [
    "hatC12 = np.cos(2*b)*np.sin(2*a)*np.sin(d) + np.cos(2*a)*np.cos(e)*np.sin(2*b)*np.sin(d)\n",
    "hatC23 = np.cos(2*c)*np.cos(d)*np.sin(2*b)*np.sin(e) + np.cos(2*b)*np.sin(2*c)*np.sin(e)\n",
    "hatC23"
   ]
  },
  {
   "cell_type": "code",
   "execution_count": null,
   "id": "fb2a2df2-719a-49e0-8c08-ab2bcc8f9e54",
   "metadata": {},
   "outputs": [],
   "source": []
  }
 ],
 "metadata": {
  "kernelspec": {
   "display_name": "py38",
   "language": "python",
   "name": "py38"
  },
  "language_info": {
   "codemirror_mode": {
    "name": "ipython",
    "version": 3
   },
   "file_extension": ".py",
   "mimetype": "text/x-python",
   "name": "python",
   "nbconvert_exporter": "python",
   "pygments_lexer": "ipython3",
   "version": "3.8.11"
  }
 },
 "nbformat": 4,
 "nbformat_minor": 5
}
