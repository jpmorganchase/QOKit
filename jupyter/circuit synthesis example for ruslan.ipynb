{
 "cells": [
  {
   "cell_type": "code",
   "execution_count": 1,
   "id": "df96aa6e",
   "metadata": {},
   "outputs": [
    {
     "ename": "ImportError",
     "evalue": "\n\nUnable to import bqskit.ext package.\nEnsure that bqskit was installed with extension support.\nTo install bqskit with extension support try:\n\tpip install bqskit[ext]\n",
     "output_type": "error",
     "traceback": [
      "\u001b[0;31m---------------------------------------------------------------------------\u001b[0m",
      "\u001b[0;31mModuleNotFoundError\u001b[0m                       Traceback (most recent call last)",
      "\u001b[0;32m/opt/omniai/software/Miniconda/lib/python3.8/site-packages/bqskit/ext/__init__.py\u001b[0m in \u001b[0;36m<module>\u001b[0;34m\u001b[0m\n\u001b[1;32m     13\u001b[0m \u001b[0;32mtry\u001b[0m\u001b[0;34m:\u001b[0m\u001b[0;34m\u001b[0m\u001b[0;34m\u001b[0m\u001b[0m\n\u001b[0;32m---> 14\u001b[0;31m     \u001b[0;32mimport\u001b[0m \u001b[0mcirq\u001b[0m  \u001b[0;31m# noqa\u001b[0m\u001b[0;34m\u001b[0m\u001b[0;34m\u001b[0m\u001b[0m\n\u001b[0m\u001b[1;32m     15\u001b[0m     \u001b[0;32mimport\u001b[0m \u001b[0mpytket\u001b[0m  \u001b[0;31m# noqa\u001b[0m\u001b[0;34m\u001b[0m\u001b[0;34m\u001b[0m\u001b[0m\n",
      "\u001b[0;31mModuleNotFoundError\u001b[0m: No module named 'cirq'",
      "\nThe above exception was the direct cause of the following exception:\n",
      "\u001b[0;31mImportError\u001b[0m                               Traceback (most recent call last)",
      "\u001b[0;32m/tmp/ipykernel_1022/3104372824.py\u001b[0m in \u001b[0;36m<cell line: 22>\u001b[0;34m()\u001b[0m\n\u001b[1;32m     20\u001b[0m \u001b[0;32mfrom\u001b[0m \u001b[0mbqskit\u001b[0m\u001b[0;34m.\u001b[0m\u001b[0mcompiler\u001b[0m \u001b[0;32mimport\u001b[0m \u001b[0mBasePass\u001b[0m\u001b[0;34m,\u001b[0m \u001b[0mCompiler\u001b[0m\u001b[0;34m\u001b[0m\u001b[0;34m\u001b[0m\u001b[0m\n\u001b[1;32m     21\u001b[0m \u001b[0;32mfrom\u001b[0m \u001b[0mbqskit\u001b[0m\u001b[0;34m.\u001b[0m\u001b[0mpasses\u001b[0m \u001b[0;32mimport\u001b[0m \u001b[0;34m*\u001b[0m\u001b[0;34m\u001b[0m\u001b[0;34m\u001b[0m\u001b[0m\n\u001b[0;32m---> 22\u001b[0;31m \u001b[0;32mfrom\u001b[0m \u001b[0mbqskit\u001b[0m\u001b[0;34m.\u001b[0m\u001b[0mext\u001b[0m \u001b[0;32mimport\u001b[0m \u001b[0mqiskit_to_bqskit\u001b[0m\u001b[0;34m,\u001b[0m \u001b[0mbqskit_to_qiskit\u001b[0m\u001b[0;34m,\u001b[0m \u001b[0mbqskit_to_pytket\u001b[0m\u001b[0;34m,\u001b[0m \u001b[0mpytket_to_bqskit\u001b[0m\u001b[0;34m\u001b[0m\u001b[0;34m\u001b[0m\u001b[0m\n\u001b[0m\u001b[1;32m     23\u001b[0m \u001b[0;32mimport\u001b[0m \u001b[0mqiskit\u001b[0m\u001b[0;34m\u001b[0m\u001b[0;34m\u001b[0m\u001b[0m\n\u001b[1;32m     24\u001b[0m \u001b[0;32mfrom\u001b[0m \u001b[0mqiskit\u001b[0m \u001b[0;32mimport\u001b[0m \u001b[0mQuantumCircuit\u001b[0m\u001b[0;34m,\u001b[0m \u001b[0mtranspile\u001b[0m\u001b[0;34m\u001b[0m\u001b[0;34m\u001b[0m\u001b[0m\n",
      "\u001b[0;32m/opt/omniai/software/Miniconda/lib/python3.8/site-packages/bqskit/ext/__init__.py\u001b[0m in \u001b[0;36m<module>\u001b[0;34m\u001b[0m\n\u001b[1;32m     17\u001b[0m     \u001b[0;32mimport\u001b[0m \u001b[0mqutip\u001b[0m  \u001b[0;31m# noqa\u001b[0m\u001b[0;34m\u001b[0m\u001b[0;34m\u001b[0m\u001b[0m\n\u001b[1;32m     18\u001b[0m \u001b[0;32mexcept\u001b[0m \u001b[0mImportError\u001b[0m \u001b[0;32mas\u001b[0m \u001b[0me\u001b[0m\u001b[0;34m:\u001b[0m\u001b[0;34m\u001b[0m\u001b[0;34m\u001b[0m\u001b[0m\n\u001b[0;32m---> 19\u001b[0;31m     raise ImportError(\n\u001b[0m\u001b[1;32m     20\u001b[0m         \u001b[0;34m'\\n\\nUnable to import bqskit.ext package.\\n'\u001b[0m\u001b[0;34m\u001b[0m\u001b[0;34m\u001b[0m\u001b[0m\n\u001b[1;32m     21\u001b[0m         \u001b[0;34m'Ensure that bqskit was installed with extension support.\\n'\u001b[0m\u001b[0;34m\u001b[0m\u001b[0;34m\u001b[0m\u001b[0m\n",
      "\u001b[0;31mImportError\u001b[0m: \n\nUnable to import bqskit.ext package.\nEnsure that bqskit was installed with extension support.\nTo install bqskit with extension support try:\n\tpip install bqskit[ext]\n"
     ]
    }
   ],
   "source": [
    "from __future__ import annotations\n",
    "\n",
    "import datetime\n",
    "import os\n",
    "import pickle\n",
    "import signal\n",
    "import logging\n",
    "import traceback\n",
    "import random\n",
    "from io import StringIO\n",
    "from timeit import default_timer as timer\n",
    "from datetime import date\n",
    "from typing import Any\n",
    "import numpy as np\n",
    "from bqskit import compile\n",
    "from bqskit.compiler.task import CompilationTask\n",
    "from bqskit.ir import Circuit\n",
    "from bqskit.qis import UnitaryMatrix, CouplingGraph, PermutationMatrix\n",
    "from bqskit.compiler import MachineModel\n",
    "from bqskit.compiler import BasePass, Compiler\n",
    "from bqskit.passes import *\n",
    "from bqskit.ext import qiskit_to_bqskit, bqskit_to_qiskit, bqskit_to_pytket, pytket_to_bqskit\n",
    "import qiskit\n",
    "from qiskit import QuantumCircuit, transpile\n",
    "from qiskit.transpiler import CouplingMap"
   ]
  },
  {
   "cell_type": "code",
   "execution_count": null,
   "id": "f693f717",
   "metadata": {},
   "outputs": [],
   "source": [
    "def lin_model(qubits: int) -> list:\n",
    "    num_edges = qubits - 1\n",
    "    edges = set()\n",
    "\n",
    "    for i in range(num_edges):\n",
    "        edges.add((i, i+1))\n",
    "\n",
    "    return list(edges)\n",
    "\n",
    "model = lin_model(3)\n",
    "cp_map = CouplingMap(model)"
   ]
  },
  {
   "cell_type": "code",
   "execution_count": null,
   "id": "0a86ae7b",
   "metadata": {},
   "outputs": [],
   "source": [
    "model"
   ]
  },
  {
   "cell_type": "markdown",
   "id": "007d2439",
   "metadata": {},
   "source": [
    "# small circuit synthesis example, less than 5 qubits"
   ]
  },
  {
   "cell_type": "code",
   "execution_count": 26,
   "id": "06f75b67",
   "metadata": {},
   "outputs": [],
   "source": [
    "qc = QuantumCircuit(3)\n",
    "qc.cswap(0,1,2)\n",
    "#decompose to cx\n",
    "qc = transpile(qc, optimization_level = 3, basis_gates = ['u3', 'cx'])"
   ]
  },
  {
   "cell_type": "code",
   "execution_count": 27,
   "id": "75cde794",
   "metadata": {},
   "outputs": [
    {
     "data": {
      "text/html": [
       "<pre style=\"word-wrap: normal;white-space: pre;background: #fff0;line-height: 1.1;font-family: &quot;Courier New&quot;,Courier,monospace\">global phase: 1.5701\n",
       "                                                                           »\n",
       "q_0: ────────────────────────────────────────────────────■─────────────────»\n",
       "      ┌──────────────────┐       ┌──────────────────┐    │                 »\n",
       "q_1: ─┤ U3(π/2,π/2,-π/2) ├──■────┤ U3(π/2,-π/2,π/2) ├────┼─────────────────»\n",
       "     ┌┴──────────────────┤┌─┴─┐┌─┴──────────────────┴─┐┌─┴─┐┌─────────────┐»\n",
       "q_2: ┤ U3(π/2,0,-1.5695) ├┤ X ├┤ U3(3.1403,-3π/4,π/2) ├┤ X ├┤ U3(0,0,π/4) ├»\n",
       "     └───────────────────┘└───┘└──────────────────────┘└───┘└─────────────┘»\n",
       "«                                                  ┌─────────────┐           \n",
       "«q_0: ───────────────────────■───────────■─────────┤ U3(0,0,π/4) ├───■───────\n",
       "«          ┌─────────────┐   │         ┌─┴─┐       ├─────────────┴┐┌─┴─┐┌───┐\n",
       "«q_1: ──■──┤ U3(0,0,π/4) ├───┼─────────┤ X ├───────┤ U3(0,0,-π/4) ├┤ X ├┤ X ├\n",
       "«     ┌─┴─┐├─────────────┴┐┌─┴─┐┌──────┴───┴──────┐└──────────────┘└───┘└─┬─┘\n",
       "«q_2: ┤ X ├┤ U3(0,0,-π/4) ├┤ X ├┤ U3(π/2,0,-3π/4) ├───────────────────────■──\n",
       "«     └───┘└──────────────┘└───┘└─────────────────┘                          </pre>"
      ],
      "text/plain": [
       "global phase: 1.5701\n",
       "                                                                           »\n",
       "q_0: ────────────────────────────────────────────────────■─────────────────»\n",
       "      ┌──────────────────┐       ┌──────────────────┐    │                 »\n",
       "q_1: ─┤ U3(π/2,π/2,-π/2) ├──■────┤ U3(π/2,-π/2,π/2) ├────┼─────────────────»\n",
       "     ┌┴──────────────────┤┌─┴─┐┌─┴──────────────────┴─┐┌─┴─┐┌─────────────┐»\n",
       "q_2: ┤ U3(π/2,0,-1.5695) ├┤ X ├┤ U3(3.1403,-3π/4,π/2) ├┤ X ├┤ U3(0,0,π/4) ├»\n",
       "     └───────────────────┘└───┘└──────────────────────┘└───┘└─────────────┘»\n",
       "«                                                  ┌─────────────┐           \n",
       "«q_0: ───────────────────────■───────────■─────────┤ U3(0,0,π/4) ├───■───────\n",
       "«          ┌─────────────┐   │         ┌─┴─┐       ├─────────────┴┐┌─┴─┐┌───┐\n",
       "«q_1: ──■──┤ U3(0,0,π/4) ├───┼─────────┤ X ├───────┤ U3(0,0,-π/4) ├┤ X ├┤ X ├\n",
       "«     ┌─┴─┐├─────────────┴┐┌─┴─┐┌──────┴───┴──────┐└──────────────┘└───┘└─┬─┘\n",
       "«q_2: ┤ X ├┤ U3(0,0,-π/4) ├┤ X ├┤ U3(π/2,0,-3π/4) ├───────────────────────■──\n",
       "«     └───┘└──────────────┘└───┘└─────────────────┘                          "
      ]
     },
     "execution_count": 27,
     "metadata": {},
     "output_type": "execute_result"
    }
   ],
   "source": [
    "qc.draw()"
   ]
  },
  {
   "cell_type": "markdown",
   "id": "eb0703ca",
   "metadata": {},
   "source": [
    "qiskit transpile result:"
   ]
  },
  {
   "cell_type": "code",
   "execution_count": 28,
   "id": "39ad5759",
   "metadata": {},
   "outputs": [],
   "source": [
    "trans_qc = transpile(qc, coupling_map=cp_map, optimization_level = 3, basis_gates = ['u3', 'cx'])"
   ]
  },
  {
   "cell_type": "code",
   "execution_count": 29,
   "id": "cf832ea9",
   "metadata": {},
   "outputs": [
    {
     "data": {
      "text/html": [
       "<pre style=\"word-wrap: normal;white-space: pre;background: #fff0;line-height: 1.1;font-family: &quot;Courier New&quot;,Courier,monospace\">global phase: 0.74445\n",
       "             ┌───────────────────────┐         »\n",
       "q_0 -> 0 ────┤ U3(π,2.4111,-0.73047) ├─────────»\n",
       "             ├───────────────────────┤         »\n",
       "q_2 -> 1 ────┤ U3(π,2.8126,-0.32895) ├──────■──»\n",
       "         ┌───┴───────────────────────┴───┐┌─┴─┐»\n",
       "q_1 -> 2 ┤ U3(0.0013233,-π/2,1.1271e-12) ├┤ X ├»\n",
       "         └───────────────────────────────┘└───┘»\n",
       "«                                                  ┌───────────────────────┐   »\n",
       "«q_0 -> 0 ────────────────────────────────────■────┤ U3(π,2.4669,-0.67474) ├───»\n",
       "«          ┌──────────────────────────────┐ ┌─┴─┐┌─┴───────────────────────┴──┐»\n",
       "«q_2 -> 1 ─┤ U3(0.79558,-2.9998,-0.20118) ├─┤ X ├┤ U3(0.79558,1.3696,-2.9998) ├»\n",
       "«         ┌┴──────────────────────────────┴┐└───┘└────────────────────────────┘»\n",
       "«q_1 -> 2 ┤ U3(1.5708,0.0013226,-0.033464) ├───────────────────────────────────»\n",
       "«         └────────────────────────────────┘                                   »\n",
       "«                                               ┌──────────────────────┐     »\n",
       "«q_0 -> 0 ───────────────────────────────────■──┤ U3(0,-2.7619,1.1911) ├─────»\n",
       "«                   ┌────────────────┐     ┌─┴─┐├──────────────────────┤     »\n",
       "«q_2 -> 1 ──■───────┤ U3(π/2,-π/4,0) ├─────┤ X ├┤ U3(π,1.3328,-2.5942) ├──■──»\n",
       "«         ┌─┴─┐┌────┴────────────────┴────┐└───┘└──────────────────────┘┌─┴─┐»\n",
       "«q_1 -> 2 ┤ X ├┤ U3(1.5699,2.3897,3.1406) ├─────────────────────────────┤ X ├»\n",
       "«         └───┘└──────────────────────────┘                             └───┘»\n",
       "«                                                                        »\n",
       "«q_0 -> 0 ───────────────────────────────────────────────────────────────»\n",
       "«              ┌──────────────────┐            ┌────────────────┐        »\n",
       "«q_2 -> 1 ─────┤ U3(π/2,-π/2,π/2) ├──────■─────┤ U3(π/2,0,-π/2) ├─────■──»\n",
       "«         ┌────┴──────────────────┴───┐┌─┴─┐┌──┴────────────────┴──┐┌─┴─┐»\n",
       "«q_1 -> 2 ┤ U3(0.0018714,-3π/4,-3π/4) ├┤ X ├┤ U3(1.5695,1.5695,-π) ├┤ X ├»\n",
       "«         └───────────────────────────┘└───┘└──────────────────────┘└───┘»\n",
       "«                                       ┌──────────────────────┐      »\n",
       "«q_0 -> 0 ─────────────────────────■────┤ U3(π,0.84253,2.4133) ├───■──»\n",
       "«          ┌────────────────────┐┌─┴─┐┌─┴──────────────────────┴┐┌─┴─┐»\n",
       "«q_2 -> 1 ─┤ U3(3.1403,π/2,π/2) ├┤ X ├┤ U3(1.5712,1π/4,-1.5699) ├┤ X ├»\n",
       "«         ┌┴────────────────────┤└───┘└─────────────────────────┘└───┘»\n",
       "«q_1 -> 2 ┤ U3(1.6576,-π/2,π/2) ├─────────────────────────────────────»\n",
       "«         └─────────────────────┘                                     »\n",
       "«         ┌─────────────────────┐                          \n",
       "«q_0 -> 0 ┤ U3(π,2.8449,2.0595) ├──────────────────────────\n",
       "«         └┬───────────────────┬┘       ┌───────────────┐  \n",
       "«q_2 -> 1 ─┤ U3(1.5695,-π,π/2) ├───■────┤ U3(π/2,-π,-π) ├──\n",
       "«          └───────────────────┘ ┌─┴─┐┌─┴───────────────┴─┐\n",
       "«q_1 -> 2 ───────────────────────┤ X ├┤ U3(π/2,-1.659,-π) ├\n",
       "«                                └───┘└───────────────────┘</pre>"
      ],
      "text/plain": [
       "global phase: 0.74445\n",
       "             ┌───────────────────────┐         »\n",
       "q_0 -> 0 ────┤ U3(π,2.4111,-0.73047) ├─────────»\n",
       "             ├───────────────────────┤         »\n",
       "q_2 -> 1 ────┤ U3(π,2.8126,-0.32895) ├──────■──»\n",
       "         ┌───┴───────────────────────┴───┐┌─┴─┐»\n",
       "q_1 -> 2 ┤ U3(0.0013233,-π/2,1.1271e-12) ├┤ X ├»\n",
       "         └───────────────────────────────┘└───┘»\n",
       "«                                                  ┌───────────────────────┐   »\n",
       "«q_0 -> 0 ────────────────────────────────────■────┤ U3(π,2.4669,-0.67474) ├───»\n",
       "«          ┌──────────────────────────────┐ ┌─┴─┐┌─┴───────────────────────┴──┐»\n",
       "«q_2 -> 1 ─┤ U3(0.79558,-2.9998,-0.20118) ├─┤ X ├┤ U3(0.79558,1.3696,-2.9998) ├»\n",
       "«         ┌┴──────────────────────────────┴┐└───┘└────────────────────────────┘»\n",
       "«q_1 -> 2 ┤ U3(1.5708,0.0013226,-0.033464) ├───────────────────────────────────»\n",
       "«         └────────────────────────────────┘                                   »\n",
       "«                                               ┌──────────────────────┐     »\n",
       "«q_0 -> 0 ───────────────────────────────────■──┤ U3(0,-2.7619,1.1911) ├─────»\n",
       "«                   ┌────────────────┐     ┌─┴─┐├──────────────────────┤     »\n",
       "«q_2 -> 1 ──■───────┤ U3(π/2,-π/4,0) ├─────┤ X ├┤ U3(π,1.3328,-2.5942) ├──■──»\n",
       "«         ┌─┴─┐┌────┴────────────────┴────┐└───┘└──────────────────────┘┌─┴─┐»\n",
       "«q_1 -> 2 ┤ X ├┤ U3(1.5699,2.3897,3.1406) ├─────────────────────────────┤ X ├»\n",
       "«         └───┘└──────────────────────────┘                             └───┘»\n",
       "«                                                                        »\n",
       "«q_0 -> 0 ───────────────────────────────────────────────────────────────»\n",
       "«              ┌──────────────────┐            ┌────────────────┐        »\n",
       "«q_2 -> 1 ─────┤ U3(π/2,-π/2,π/2) ├──────■─────┤ U3(π/2,0,-π/2) ├─────■──»\n",
       "«         ┌────┴──────────────────┴───┐┌─┴─┐┌──┴────────────────┴──┐┌─┴─┐»\n",
       "«q_1 -> 2 ┤ U3(0.0018714,-3π/4,-3π/4) ├┤ X ├┤ U3(1.5695,1.5695,-π) ├┤ X ├»\n",
       "«         └───────────────────────────┘└───┘└──────────────────────┘└───┘»\n",
       "«                                       ┌──────────────────────┐      »\n",
       "«q_0 -> 0 ─────────────────────────■────┤ U3(π,0.84253,2.4133) ├───■──»\n",
       "«          ┌────────────────────┐┌─┴─┐┌─┴──────────────────────┴┐┌─┴─┐»\n",
       "«q_2 -> 1 ─┤ U3(3.1403,π/2,π/2) ├┤ X ├┤ U3(1.5712,1π/4,-1.5699) ├┤ X ├»\n",
       "«         ┌┴────────────────────┤└───┘└─────────────────────────┘└───┘»\n",
       "«q_1 -> 2 ┤ U3(1.6576,-π/2,π/2) ├─────────────────────────────────────»\n",
       "«         └─────────────────────┘                                     »\n",
       "«         ┌─────────────────────┐                          \n",
       "«q_0 -> 0 ┤ U3(π,2.8449,2.0595) ├──────────────────────────\n",
       "«         └┬───────────────────┬┘       ┌───────────────┐  \n",
       "«q_2 -> 1 ─┤ U3(1.5695,-π,π/2) ├───■────┤ U3(π/2,-π,-π) ├──\n",
       "«          └───────────────────┘ ┌─┴─┐┌─┴───────────────┴─┐\n",
       "«q_1 -> 2 ───────────────────────┤ X ├┤ U3(π/2,-1.659,-π) ├\n",
       "«                                └───┘└───────────────────┘"
      ]
     },
     "execution_count": 29,
     "metadata": {},
     "output_type": "execute_result"
    }
   ],
   "source": [
    "trans_qc.draw()"
   ]
  },
  {
   "cell_type": "code",
   "execution_count": 30,
   "id": "c802de1c",
   "metadata": {},
   "outputs": [
    {
     "data": {
      "text/plain": [
       "OrderedDict([('u3', 23), ('cx', 10)])"
      ]
     },
     "execution_count": 30,
     "metadata": {},
     "output_type": "execute_result"
    }
   ],
   "source": [
    "#qiskit generates circuits with 10 cnots\n",
    "trans_qc.count_ops()"
   ]
  },
  {
   "cell_type": "markdown",
   "id": "c9477b17",
   "metadata": {},
   "source": [
    "Qsearch synthesis:"
   ]
  },
  {
   "cell_type": "code",
   "execution_count": 31,
   "id": "68d94ddd",
   "metadata": {},
   "outputs": [],
   "source": [
    "bqskit_circ = qiskit_to_bqskit(qc)"
   ]
  },
  {
   "cell_type": "code",
   "execution_count": 32,
   "id": "c7d5e89c",
   "metadata": {},
   "outputs": [],
   "source": [
    "inst_ops = instantiate_options={'multistarts':2, 'ftol':5e-16, 'gtol':1e-15}"
   ]
  },
  {
   "cell_type": "code",
   "execution_count": 45,
   "id": "0122a567",
   "metadata": {},
   "outputs": [],
   "source": [
    "task = CompilationTask(bqskit_circ.copy(), [\n",
    "        SetModelPass(MachineModel(3, CouplingGraph.linear(3))),\n",
    "        QSearchSynthesisPass(instantiate_options=inst_ops),\n",
    "    ])"
   ]
  },
  {
   "cell_type": "code",
   "execution_count": 46,
   "id": "72421f5e",
   "metadata": {},
   "outputs": [],
   "source": [
    "with Compiler() as compiler:\n",
    "    opt_circuit = compiler.compile(task)"
   ]
  },
  {
   "cell_type": "code",
   "execution_count": 47,
   "id": "487af792",
   "metadata": {},
   "outputs": [
    {
     "data": {
      "text/plain": [
       "Circuit(3)\n",
       "\t[U3Gate([3.141592653589793, 2.846874424730188, 4.665740060156603])@(0,), U3Gate([2.2045962222229796, 1.3710106003609661, 1.939288648746714])@(1,), U3Gate([1.333665027970923, 4.547118562580896, 2.097795735648832])@(2,)]\n",
       "\t[CNOTGate([])@(0, 1), CNOTGate([])@(0, 1), None]\n",
       "\t[U3Gate([3.141592653589793, 4.024420327349523, 1.6758567339076238])@(0,), U3Gate([0.7630908094628832, 5.770832105167222, 1.5707963322987015])@(1,), None]\n",
       "\t[None, CNOTGate([])@(1, 2), CNOTGate([])@(1, 2)]\n",
       "\t[None, U3Gate([1.570796326005353, 1.6670971334400027, 2.0831495229825983])@(1,), U3Gate([3.2769167204048366, 0.888460583349005, 3.252791166554247])@(2,)]\n",
       "\t[None, CNOTGate([])@(1, 2), CNOTGate([])@(1, 2)]\n",
       "\t[None, U3Gate([5.129129443153423, 4.712388979105864, 2.259893684083176])@(1,), U3Gate([0.22022640586175757, 6.96615430752403, 0.40310120781900954])@(2,)]\n",
       "\t[CNOTGate([])@(0, 1), CNOTGate([])@(0, 1), None]\n",
       "\t[U3Gate([3.141592653589793, 4.129385103589741, 4.580115806332114])@(0,), U3Gate([4.194505055313369, 1.1887323018058862, 1.451422485799269])@(1,), None]\n",
       "\t[None, CNOTGate([])@(1, 2), CNOTGate([])@(1, 2)]\n",
       "\t[None, U3Gate([4.712388979582748, 3.8481722914236562, 5.8259548285807075])@(1,), U3Gate([4.579379966071619, 6.098948689821281, 3.7600993748553373])@(2,)]\n",
       "\t[None, CNOTGate([])@(1, 2), CNOTGate([])@(1, 2)]\n",
       "\t[None, U3Gate([4.550429917120114, 6.005914942383862, 2.950503169329032])@(1,), U3Gate([2.9007201202998325, 0.8442851553260062, 8.81777654001881])@(2,)]\n",
       "\t[CNOTGate([])@(0, 1), CNOTGate([])@(0, 1), None]\n",
       "\t[U3Gate([3.141592653589793, 2.7514591376399142, 3.44262825226336])@(0,), U3Gate([1.9416577873688603, 2.254397926911304, 0.7095031286525586])@(1,), None]\n",
       "\t[None, CNOTGate([])@(1, 2), CNOTGate([])@(1, 2)]\n",
       "\t[None, U3Gate([1.6889241715446242, 4.205324129757633, 3.4676577162193003])@(1,), U3Gate([4.541277042032979, 2.558972480402921, 6.387200383666224])@(2,)]"
      ]
     },
     "execution_count": 47,
     "metadata": {},
     "output_type": "execute_result"
    }
   ],
   "source": [
    "opt_circuit"
   ]
  },
  {
   "cell_type": "code",
   "execution_count": 48,
   "id": "8afd3f1e",
   "metadata": {},
   "outputs": [
    {
     "data": {
      "text/plain": [
       "27"
      ]
     },
     "execution_count": 48,
     "metadata": {},
     "output_type": "execute_result"
    }
   ],
   "source": [
    "opt_circuit.num_operations"
   ]
  },
  {
   "cell_type": "code",
   "execution_count": 49,
   "id": "751c7bcc",
   "metadata": {},
   "outputs": [
    {
     "name": "stdout",
     "output_type": "stream",
     "text": [
      "19 U3Gate\n",
      "8 CNOTGate\n"
     ]
    }
   ],
   "source": [
    "#8CNOT circuit with qsearch synthesis\n",
    "for gate in opt_circuit.gate_set:\n",
    "    print(opt_circuit.count(gate), gate.name)"
   ]
  },
  {
   "cell_type": "code",
   "execution_count": 50,
   "id": "9913078d",
   "metadata": {},
   "outputs": [
    {
     "data": {
      "text/plain": [
       "0.0"
      ]
     },
     "execution_count": 50,
     "metadata": {},
     "output_type": "execute_result"
    }
   ],
   "source": [
    "distance = opt_circuit.get_unitary().get_distance_from(bqskit_circ.get_unitary())\n",
    "distance"
   ]
  },
  {
   "cell_type": "markdown",
   "id": "490ef3bd",
   "metadata": {},
   "source": [
    "# Scalable synthesis requires first partition the circuit into blocks, then synthesis them individually, the flow is integrated in compile()"
   ]
  },
  {
   "cell_type": "code",
   "execution_count": 51,
   "id": "89fa2393",
   "metadata": {},
   "outputs": [],
   "source": [
    "#you can generate the circuit in qiskit or load the qasm\n",
    "adder_circuit = Circuit.from_file(\"adder9.qasm\")"
   ]
  },
  {
   "cell_type": "code",
   "execution_count": 66,
   "id": "f2d06d3d",
   "metadata": {},
   "outputs": [
    {
     "name": "stdout",
     "output_type": "stream",
     "text": [
      "Gate Counts: {U3Gate: 140, CNOTGate: 93}\n",
      "Connectivity: CouplingGraph({(1, 2), (3, 4), (2, 3), (6, 7), (4, 5), (8, 9), (5, 6), (7, 8)})\n"
     ]
    }
   ],
   "source": [
    "linear_model = MachineModel(16, coupling_graph=CouplingGraph.linear(16))\n",
    "out_circuit = compile(adder_circuit, model=linear_model, optimization_level = 2)\n",
    "print(\"Gate Counts:\", out_circuit.gate_counts)\n",
    "print(\"Connectivity:\", out_circuit.coupling_graph)"
   ]
  },
  {
   "cell_type": "code",
   "execution_count": 58,
   "id": "a1fde899",
   "metadata": {},
   "outputs": [],
   "source": [
    "#qiskit:\n",
    "qiskit_adder = QuantumCircuit.from_qasm_file(\"adder9.qasm\")"
   ]
  },
  {
   "cell_type": "code",
   "execution_count": 62,
   "id": "37dbbe83",
   "metadata": {},
   "outputs": [
    {
     "data": {
      "text/plain": [
       "OrderedDict([('cx', 98), ('u1', 52), ('u2', 8), ('u3', 4)])"
      ]
     },
     "execution_count": 62,
     "metadata": {},
     "output_type": "execute_result"
    }
   ],
   "source": [
    "qiskit_adder.count_ops()"
   ]
  },
  {
   "cell_type": "code",
   "execution_count": 60,
   "id": "84e7d48b",
   "metadata": {},
   "outputs": [],
   "source": [
    "cp_map = CouplingMap(CouplingGraph.linear(16))"
   ]
  },
  {
   "cell_type": "code",
   "execution_count": 64,
   "id": "9ae7e468",
   "metadata": {},
   "outputs": [],
   "source": [
    "trans_adder = transpile(qiskit_adder, coupling_map = cp_map, optimization_level = 3, basis_gates = ['u3', 'cx'])"
   ]
  },
  {
   "cell_type": "code",
   "execution_count": 65,
   "id": "cb285d68",
   "metadata": {},
   "outputs": [
    {
     "data": {
      "text/plain": [
       "OrderedDict([('u3', 199), ('cx', 108)])"
      ]
     },
     "execution_count": 65,
     "metadata": {},
     "output_type": "execute_result"
    }
   ],
   "source": [
    "trans_adder.count_ops()"
   ]
  },
  {
   "cell_type": "code",
   "execution_count": null,
   "id": "47a8961f",
   "metadata": {},
   "outputs": [],
   "source": []
  }
 ],
 "metadata": {
  "kernelspec": {
   "display_name": "Python 3 (ipykernel)",
   "language": "python",
   "name": "python3"
  },
  "language_info": {
   "codemirror_mode": {
    "name": "ipython",
    "version": 3
   },
   "file_extension": ".py",
   "mimetype": "text/x-python",
   "name": "python",
   "nbconvert_exporter": "python",
   "pygments_lexer": "ipython3",
   "version": "3.8.11"
  }
 },
 "nbformat": 4,
 "nbformat_minor": 5
}
