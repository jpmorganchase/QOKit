{
 "cells": [
  {
   "cell_type": "markdown",
   "id": "9eb125e5-71f6-4c44-a536-f5bcd80408c6",
   "metadata": {},
   "source": [
    "This notebook plots the merit factors of some constructive sequences that are known to have asymptotically low auto-correlation."
   ]
  },
  {
   "cell_type": "code",
   "execution_count": null,
   "id": "b2b8ec07-4f5a-4eb2-af06-dda212f70e29",
   "metadata": {},
   "outputs": [],
   "source": [
    "import math\n",
    "import numpy as np\n",
    "import matplotlib.pyplot as plt\n",
    "from typing import List, Dict\n",
    "\n",
    "def compute_ac(s: List[int]):\n",
    "    ac=0\n",
    "    c=[0]*(len(s)-1)\n",
    "    for k in range(1,len(s)):\n",
    "      for i in range(len(s)-k):\n",
    "        c[k-1]+=s[i]*s[i+k]\n",
    "      #c[k-1]=c[k-1]\n",
    "      ac+=c[k-1]**2\n",
    "    return (ac,c)\n",
    "\n",
    "def merit_factor(s: List[int]):\n",
    "    return (len(s)**2)/(2*compute_ac(s)[0])"
   ]
  },
  {
   "cell_type": "code",
   "execution_count": null,
   "id": "153a93a6-142c-414f-959f-2e91f43fa5b2",
   "metadata": {},
   "outputs": [],
   "source": [
    "# Utilities\n",
    "\n",
    "def offset(j : int,s: List[int]):\n",
    "    l = [0]*len(s)\n",
    "    for i in range(len(s)):\n",
    "        l[i] = s[(j + i)%len(s)]\n",
    "    return l\n",
    "\n",
    "\n",
    "def primesfrom3to(n : int):\n",
    "    sieve = np.ones(n//2, dtype=bool)\n",
    "    for i in range(3,int(n**0.5)+1,2):\n",
    "        if sieve[i//2]:\n",
    "            sieve[i*i//2::i] = False\n",
    "    return 2*np.nonzero(sieve)[0][1::]+1\n"
   ]
  },
  {
   "cell_type": "code",
   "execution_count": null,
   "id": "880982be-2a66-4cc4-a775-759bcf3e091a",
   "metadata": {},
   "outputs": [],
   "source": [
    "# Number Theoretic Primitives\n",
    "\n",
    "def fast_mod_exp(b, exp, m):\n",
    "    res = 1\n",
    "    while exp > 1:\n",
    "        if exp & 1:\n",
    "            res = (res * b) % m\n",
    "        b = b ** 2 % m\n",
    "        exp >>= 1\n",
    "    return (b * res) % m\n",
    "\n",
    "def legendre_symbol(a,p):\n",
    "    if(p==2):\n",
    "        return 1\n",
    "    elif (a % p == 0):\n",
    "        return 0\n",
    "    else:\n",
    "        flag = (fast_mod_exp(a,int((p-1)/2),p) == 1)\n",
    "        return 1 if flag else -1\n",
    "    \n",
    "def rotated_legendre_sequence(r,p):\n",
    "    l = [legendre_symbol(j+r,p) for j  in range(p)]\n",
    "    return [x if x != 0 else 1 for x in l]\n",
    "\n",
    "def rotated_appended_legendre_sequence(r,t,p):\n",
    "    l = [legendre_symbol(j+r,p) for j  in range(t)]\n",
    "    return [x if x != 0 else 1 for x in l]\n"
   ]
  },
  {
   "cell_type": "markdown",
   "id": "2428df45-ffe4-45e6-8908-384a6cc09338",
   "metadata": {},
   "source": [
    "Optimally rotated legendre sequences obtain an asymptotic merit factor of 6."
   ]
  },
  {
   "cell_type": "code",
   "execution_count": null,
   "id": "18c10e51-1ef3-49fb-90bc-c72561d2c599",
   "metadata": {},
   "outputs": [],
   "source": [
    "def optimal_rotated_floor(p: int):\n",
    "    return rotated_legendre_sequence(int(p/4),p)\n",
    "\n",
    "def optimal_rotated_ceil(p: int):\n",
    "    return rotated_legendre_sequence(int(p/4)+1,p)"
   ]
  },
  {
   "cell_type": "markdown",
   "id": "5a793f5c-f4cc-4b15-96c1-0f23edbfe36c",
   "metadata": {},
   "source": [
    "Testing for small primes (upto 100) and asymptotics (upto 1000)."
   ]
  },
  {
   "cell_type": "code",
   "execution_count": null,
   "id": "727d107e-838d-4202-b379-a130d1df79be",
   "metadata": {},
   "outputs": [],
   "source": [
    "primelist1 = primesfrom3to(100)\n",
    "primelist2 = primesfrom3to(1000)\n",
    "\n",
    "test_rotated_floor1 = [(p,merit_factor(optimal_rotated_floor(p))) for p in primelist1]\n",
    "test_rotated_floor2 = [(p,merit_factor(optimal_rotated_floor(p))) for p in primelist2]"
   ]
  },
  {
   "cell_type": "code",
   "execution_count": null,
   "id": "363b1e10-a6ec-4a06-bb97-5cc16aef7fc5",
   "metadata": {},
   "outputs": [],
   "source": [
    "plt.figure(0)\n",
    "plt.xlabel('Length')\n",
    "plt.ylabel('Merit Factor')\n",
    "xvals = [tup[0] for tup in test_rotated_floor1]\n",
    "yvals = [tup[1] for tup in test_rotated_floor1]\n",
    "plt.yticks(np.arange(0,7,0.5))\n",
    "plt.grid()\n",
    "plt.plot(xvals,yvals)\n",
    "\n",
    "plt.figure(1)\n",
    "plt.xlabel('Length')\n",
    "plt.ylabel('Merit Factor')\n",
    "xvals = [tup[0] for tup in test_rotated_floor2]\n",
    "yvals = [tup[1] for tup in test_rotated_floor2]\n",
    "plt.yticks(np.arange(0,7,0.5))\n",
    "plt.grid()\n",
    "plt.plot(xvals,yvals)\n"
   ]
  },
  {
   "cell_type": "markdown",
   "id": "3c35e4eb-529e-4a77-8ce2-cde15f279e69",
   "metadata": {},
   "source": [
    "Optimal Fekete Polynomials obtain an asymptotic merit factor of 6.34"
   ]
  },
  {
   "cell_type": "code",
   "execution_count": null,
   "id": "8e3b8db5-6bcd-434f-a7e6-a6edbf071871",
   "metadata": {},
   "outputs": [],
   "source": [
    "def opt_fekete_polynomial(p):\n",
    "    T = np.sort(np.roots([4,0,-30,27]))[1]\n",
    "    t = int(p*T)\n",
    "    R = (3 - 2*T)/4 + 0.5\n",
    "    r = int(p*R)\n",
    "    return (t,rotated_appended_legendre_sequence(r,t,p))\n",
    "\n",
    "\n",
    "test_fekete1 = [opt_fekete_polynomial(p) for p in primelist1]\n",
    "test_fekete2 = [opt_fekete_polynomial(p) for p in primelist2]"
   ]
  },
  {
   "cell_type": "code",
   "execution_count": null,
   "id": "399b93ca-8715-4b62-99df-136d310cd2a0",
   "metadata": {},
   "outputs": [],
   "source": [
    "plt.figure(0)\n",
    "plt.xlabel('Length')\n",
    "plt.ylabel('Merit Factor')\n",
    "xvals = [tup[0] for tup in test_fekete1]\n",
    "yvals = [merit_factor(tup[1]) for tup in test_fekete1]\n",
    "plt.yticks(np.arange(0,7,0.5))\n",
    "plt.grid()\n",
    "plt.plot(xvals,yvals)\n",
    "\n",
    "plt.figure(1)\n",
    "plt.xlabel('Length')\n",
    "plt.ylabel('Merit Factor')\n",
    "xvals = [tup[0] for tup in test_fekete2]\n",
    "yvals = [merit_factor(tup[1]) for tup in test_fekete2]\n",
    "plt.yticks(np.arange(0,7,0.5))\n",
    "plt.grid()\n",
    "plt.plot(xvals,yvals)"
   ]
  }
 ],
 "metadata": {
  "kernelspec": {
   "display_name": "py38",
   "language": "python",
   "name": "py38"
  },
  "language_info": {
   "codemirror_mode": {
    "name": "ipython",
    "version": 3
   },
   "file_extension": ".py",
   "mimetype": "text/x-python",
   "name": "python",
   "nbconvert_exporter": "python",
   "pygments_lexer": "ipython3",
   "version": "3.8.11"
  }
 },
 "nbformat": 4,
 "nbformat_minor": 5
}
