{
 "cells": [
  {
   "cell_type": "code",
   "execution_count": null,
   "id": "bce52b60-ec67-424e-a9c9-6af13e13316a",
   "metadata": {},
   "outputs": [],
   "source": [
    "import sys\n",
    "sys.path.append(\"../code/\")\n",
    "import numpy as np\n",
    "import pickle\n",
    "import matplotlib.pyplot as plt\n",
    "from pathlib import Path\n",
    "import copy\n",
    "\n",
    "ress = {}\n",
    "for N in range(8,25):\n",
    "    outpath = f\"../scripts/data_overlap/heatmap_{N}.pickle\"\n",
    "    if not Path(outpath).exists():\n",
    "        print(f\"No heatmap at {outpath}, skipping\")\n",
    "        continue\n",
    "    res = pickle.load(open(outpath, \"rb\"))\n",
    "    ress[N] = copy.deepcopy(1 - res['hm'])\n",
    "    plt.imshow(1-res['hm'], extent=[0, np.pi, np.pi, 0])\n",
    "    plt.ylabel(r\"$\\beta$\")\n",
    "    plt.xlabel(r\"$\\gamma$\")\n",
    "    plt.colorbar()\n",
    "    plt.title(f\"N={N}\")\n",
    "    plt.show()"
   ]
  },
  {
   "cell_type": "code",
   "execution_count": null,
   "id": "7d81152a-d449-40cd-992b-3d6d19ff08cd",
   "metadata": {},
   "outputs": [],
   "source": [
    "import sys\n",
    "sys.path.append(\"../code/\")\n",
    "import numpy as np\n",
    "import pickle\n",
    "import matplotlib.pyplot as plt\n",
    "from pathlib import Path\n",
    "import copy\n",
    "\n",
    "hms = {}\n",
    "\n",
    "for N in range(8, 25):\n",
    "    outpath = f\"../scripts/data_overlap/heatmap_small_{N}.pickle\"\n",
    "    if not Path(outpath).exists():\n",
    "        print(f\"No heatmap at {outpath}, skipping\")\n",
    "        continue\n",
    "    res = pickle.load(open(outpath, \"rb\"))\n",
    "    plt.imshow(\n",
    "        1 -res['hm'], \n",
    "        extent=[res['min_gamma'], res['max_gamma'],res['max_beta'], res['min_beta']]\n",
    "    )\n",
    "    ress[N] = copy.deepcopy(1 - res['hm'])\n",
    "    plt.ylabel(r\"$\\beta$\")\n",
    "    plt.xlabel(r\"$\\gamma$\")\n",
    "    plt.colorbar()\n",
    "    plt.title(f\"N={N}\")\n",
    "    plt.show()"
   ]
  },
  {
   "cell_type": "code",
   "execution_count": null,
   "id": "967335e3-f340-4831-8c8a-3ae474fac2d0",
   "metadata": {},
   "outputs": [],
   "source": [
    "res['hm'].shape[0]"
   ]
  },
  {
   "cell_type": "markdown",
   "id": "2e5cbe2a-e239-4876-abfa-2790ef5fd31e",
   "metadata": {},
   "source": [
    "# Scaling of gamma can be read off from the heatmap directly"
   ]
  },
  {
   "cell_type": "code",
   "execution_count": null,
   "id": "a0ffe907-f6b3-412c-8cf4-64d491466d87",
   "metadata": {},
   "outputs": [],
   "source": [
    "best_gammas = []\n",
    "best_betas = []\n",
    "\n",
    "# just grab from the last res\n",
    "gammas = np.linspace(res['min_gamma'], res['max_gamma'], res['hm'].shape[0])\n",
    "betas = np.linspace(res['min_beta'], res['max_beta'], res['hm'].shape[0])\n",
    "\n",
    "for N, res in ress.items():\n",
    "    betas_idx, gammas_idx = np.unravel_index(np.argmax(res), res.shape)\n",
    "    best_gammas.append(gammas[gammas_idx])\n",
    "    best_betas.append(betas[betas_idx])"
   ]
  },
  {
   "cell_type": "code",
   "execution_count": null,
   "id": "4b92ef5c-8255-41c6-8bb5-f41b26a333a6",
   "metadata": {},
   "outputs": [],
   "source": [
    "best_gammas"
   ]
  },
  {
   "cell_type": "markdown",
   "id": "4f14a8c5-028f-442e-87ca-6bb3d52da7d4",
   "metadata": {},
   "source": [
    "### Beta essentially stays constant"
   ]
  },
  {
   "cell_type": "code",
   "execution_count": null,
   "id": "dc5b2742-5c4f-4f36-a360-64fb7b644cec",
   "metadata": {},
   "outputs": [],
   "source": [
    "plt.plot(ress.keys(), best_betas, label=r'$\\beta$')\n",
    "plt.axhline(y = -0.15, color = 'r', linestyle = '--')\n",
    "plt.axhline(y = -0.30, color = 'r', linestyle = '--')\n",
    "plt.xlabel('N')\n",
    "plt.xlim([12,24])\n",
    "plt.legend(title='Optimal parameters')"
   ]
  },
  {
   "cell_type": "code",
   "execution_count": null,
   "id": "8dc41e51-46b9-4a86-a364-27fef1ba600c",
   "metadata": {},
   "outputs": [],
   "source": [
    "plt.plot(ress.keys(), best_gammas, label=r'$\\gamma$')\n",
    "plt.plot(ress.keys(), [1.2/x for x in ress.keys()], label=r'Fit: $\\frac{1.2}{N}$', linestyle='dashed')\n",
    "plt.plot(ress.keys(), [0.8/x for x in ress.keys()], label=r'Fit: $\\frac{0.8}{N}$', linestyle='dashed')\n",
    "plt.xlim([12,24])\n",
    "plt.ylim([0.02,0.1])\n",
    "plt.xlabel('N')\n",
    "plt.legend(title='Optimal parameters')"
   ]
  },
  {
   "cell_type": "code",
   "execution_count": null,
   "id": "bec54455-83f2-49bf-9db7-a98be4a5ff9e",
   "metadata": {},
   "outputs": [],
   "source": [
    "import pandas as pd\n",
    "df = pd.read_json('../qokit/assets/best_known_QAOA_parameters_wrt_overlap.json', orient='index')"
   ]
  },
  {
   "cell_type": "code",
   "execution_count": null,
   "id": "7934ea6a-da40-4e15-aa3b-76957833a912",
   "metadata": {},
   "outputs": [],
   "source": [
    "# gammas_opt = [x[0] for x in df[df['p'] == 1].sort_values('p')['N','gamma']]\n",
    "Ns_opt, gammas_opt = zip(\n",
    "    *list((x[1]['N'],x[1]['gamma'][0]) for x in df[df['p'] == 1].sort_values('N')[['N','gamma']].iterrows())\n",
    ")"
   ]
  },
  {
   "cell_type": "code",
   "execution_count": null,
   "id": "cc118548-3815-488c-b471-89597715fc03",
   "metadata": {},
   "outputs": [],
   "source": [
    "gammas_opt = list(gammas_opt)\n",
    "for idx, x in enumerate(gammas_opt):\n",
    "    if x > 3:\n",
    "        x -= np.pi\n",
    "    if x < 0:\n",
    "        x = -x\n",
    "    gammas_opt[idx] = x"
   ]
  },
  {
   "cell_type": "code",
   "execution_count": null,
   "id": "379f577f-52a7-421e-b757-08764f0d1525",
   "metadata": {},
   "outputs": [],
   "source": [
    "plt.plot(ress.keys(), best_gammas, label=r'$\\gamma$ from heatmap')\n",
    "plt.plot(Ns_opt, gammas_opt, linestyle='dashed', label=r'$\\gamma$ from direct optimization')\n",
    "plt.plot(ress.keys(), [1.2/x for x in ress.keys()], label=r'Fit: $\\frac{1.2}{N}$', linestyle='dotted')\n",
    "plt.plot(ress.keys(), [0.8/x for x in ress.keys()], label=r'Fit: $\\frac{0.8}{N}$', linestyle='dotted')\n",
    "plt.xlabel('N')\n",
    "plt.xlim([12,24])\n",
    "plt.ylim([0.025,0.1])\n",
    "plt.legend(title='Optimal parameters')"
   ]
  },
  {
   "cell_type": "code",
   "execution_count": null,
   "id": "cd6d7e5a-953e-4841-be3e-3f05d8a85a52",
   "metadata": {},
   "outputs": [],
   "source": []
  }
 ],
 "metadata": {
  "kernelspec": {
   "display_name": "py38",
   "language": "python",
   "name": "py38"
  },
  "language_info": {
   "codemirror_mode": {
    "name": "ipython",
    "version": 3
   },
   "file_extension": ".py",
   "mimetype": "text/x-python",
   "name": "python",
   "nbconvert_exporter": "python",
   "pygments_lexer": "ipython3",
   "version": "3.8.11"
  }
 },
 "nbformat": 4,
 "nbformat_minor": 5
}
