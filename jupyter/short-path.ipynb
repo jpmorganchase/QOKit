{
 "cells": [
  {
   "cell_type": "markdown",
   "id": "9f237377-cb85-45de-84a0-7d59efc0f3bd",
   "metadata": {},
   "source": [
    "Messing around with the applicability of the shortest path algorithm to the LABS problem\n",
    "\n",
    "Based on https://arxiv.org/pdf/2212.01513.pdf"
   ]
  },
  {
   "cell_type": "code",
   "execution_count": 17,
   "id": "d3f40e4c-2581-4d6c-8697-bafd106ea0ae",
   "metadata": {},
   "outputs": [],
   "source": [
    "import os\n",
    "\n",
    "os.environ[\"OMP_NUM_THREADS\"] = \"20\"\n",
    "\n",
    "import sys\n",
    "sys.path.append(\"../code/\")\n",
    "\n",
    "from utils import get_adjusted_state\n",
    "from objectives import get_precomputed_labs_energies, get_precomputed_optimal_bitstrings\n",
    "from matrix import X as Pauli_X \n",
    "from matrix import I as Pauli_I \n",
    "from matrix import kron\n",
    "import numpy as np\n",
    "import pickle\n",
    "from functools import reduce\n",
    "\n",
    "def g_eta(x, eta):\n",
    "    # Eq 4 of https://arxiv.org/pdf/2212.01513.pdf\n",
    "    return np.minimum(np.zeros(x.shape), (x+1-eta)/eta)\n",
    "\n",
    "N = 13\n",
    "\n",
    "X = sum(\n",
    "        kron(*([Pauli_I] * i + [Pauli_X] + [Pauli_I] * (N - i - 1)))\n",
    "        for i in range(N)\n",
    ")\n",
    "\n",
    "plus = np.ones(2**N) / 2**(N/2)\n",
    "assert np.isclose(plus.T.dot(plus), 1)\n",
    "\n",
    "H_diag = get_adjusted_state(\n",
    "    get_precomputed_labs_energies(N)\n",
    ")\n",
    "\n",
    "precomputed_bitstrings = get_precomputed_optimal_bitstrings(N)\n",
    "\n",
    "H_diag -= sum(H_diag) / len(H_diag)\n",
    "assert np.isclose(sum(H_diag), 0)\n",
    "\n",
    "# compute the ground state of H\n",
    "gs_of_H = np.zeros(2**N)\n",
    "\n",
    "bitstring_loc = np.array([reduce(lambda a, b: 2 * a + b, x) for x in precomputed_bitstrings])\n",
    "\n",
    "for i in range(len(bitstring_loc)):\n",
    "    gs_of_H[bitstring_loc[i]] = 1\n",
    "\n",
    "gs_of_H /= np.sqrt(gs_of_H.dot(gs_of_H))\n",
    "gs_of_H = get_adjusted_state(gs_of_H)\n",
    "\n",
    "P = np.outer(gs_of_H, gs_of_H)"
   ]
  },
  {
   "cell_type": "code",
   "execution_count": 18,
   "id": "053d6848-bdc8-4cdd-bf62-6e4cb5492c0e",
   "metadata": {
    "tags": []
   },
   "outputs": [
    {
     "name": "stdout",
     "output_type": "stream",
     "text": [
      "b=0.00000\n",
      "[-1.    -0.846 -0.692] True\n",
      "<+|psi_b> =  1.0\n",
      "||Pi |psi_b>|| =  0.022097086912079646\n",
      "b=0.03448\n",
      "[-1.    -0.846 -0.846] True\n",
      "<+|psi_b> =  0.9999995149662867\n",
      "||Pi |psi_b>|| =  0.022966285955234186\n",
      "b=0.06897\n",
      "[-1.    -0.846 -0.846] True\n",
      "<+|psi_b> =  0.9999979135359127\n",
      "||Pi |psi_b>|| =  0.023906689350458595\n",
      "b=0.10345\n",
      "[-1.    -0.847 -0.847] True\n",
      "<+|psi_b> =  0.9999949337643054\n",
      "||Pi |psi_b>|| =  0.02492741259759687\n",
      "b=0.13793\n",
      "[-1.    -0.847 -0.847] True\n",
      "<+|psi_b> =  0.9999902433749103\n",
      "||Pi |psi_b>|| =  0.02603919466138108\n",
      "b=0.17241\n",
      "[-1.    -0.847 -0.847] True\n",
      "<+|psi_b> =  0.9999834174802368\n",
      "||Pi |psi_b>|| =  0.027254775754006297\n",
      "b=0.20690\n",
      "[-1.    -0.847 -0.847] True\n",
      "<+|psi_b> =  0.9999739079535269\n",
      "||Pi |psi_b>|| =  0.028589385602872868\n",
      "b=0.24138\n",
      "[-1.    -0.847 -0.847] True\n",
      "<+|psi_b> =  0.9999610007641487\n",
      "||Pi |psi_b>|| =  0.030061381770015633\n",
      "b=0.27586\n",
      "[-1.    -0.848 -0.848] True\n",
      "<+|psi_b> =  0.9999437556820373\n",
      "||Pi |psi_b>|| =  0.031693094626175186\n",
      "b=0.31034\n",
      "[-1.    -0.848 -0.848] True\n",
      "<+|psi_b> =  0.9999209196990507\n",
      "||Pi |psi_b>|| =  0.03351196132320296\n",
      "b=0.34483\n",
      "[-1.    -0.848 -0.848] True\n",
      "<+|psi_b> =  0.9998908005036169\n",
      "||Pi |psi_b>|| =  0.035552070780278\n",
      "b=0.37931\n",
      "[-1.001 -0.849 -0.849] True\n",
      "<+|psi_b> =  0.9998510779250831\n",
      "||Pi |psi_b>|| =  0.03785630419207309\n",
      "b=0.41379\n",
      "[-1.001 -0.85  -0.849] True\n",
      "<+|psi_b> =  0.9997985167254152\n",
      "||Pi |psi_b>|| =  0.04047935641550763\n",
      "b=0.44828\n",
      "[-1.001 -0.85  -0.85 ] True\n",
      "<+|psi_b> =  0.9997285182305653\n",
      "||Pi |psi_b>|| =  0.04349209076863908\n",
      "b=0.48276\n",
      "[-1.001 -0.851 -0.85 ] True\n",
      "<+|psi_b> =  0.9996344005990986\n",
      "||Pi |psi_b>|| =  0.04698796535612766\n",
      "b=0.51724\n",
      "[-1.001 -0.852 -0.851] True\n",
      "<+|psi_b> =  0.9995062061645962\n",
      "||Pi |psi_b>|| =  0.05109277365376581\n",
      "b=0.55172\n",
      "[-1.001 -0.853 -0.852] True\n",
      "<+|psi_b> =  0.9993286513601923\n",
      "||Pi |psi_b>|| =  0.05597986855562884\n",
      "b=0.58621\n",
      "[-1.001 -0.855 -0.854] True\n",
      "<+|psi_b> =  0.9990774493199812\n",
      "||Pi |psi_b>|| =  0.061894816114320184\n",
      "b=0.62069\n",
      "[-1.001 -0.858 -0.857] True\n",
      "<+|psi_b> =  0.9987123736417592\n",
      "||Pi |psi_b>|| =  0.06919700960703229\n",
      "b=0.65517\n",
      "[-1.001 -0.862 -0.86 ] True\n",
      "<+|psi_b> =  0.9981633664613702\n",
      "||Pi |psi_b>|| =  0.07843343950506321\n",
      "b=0.68966\n",
      "[-1.002 -0.869 -0.867] True\n",
      "<+|psi_b> =  0.9973006133882976\n",
      "||Pi |psi_b>|| =  0.09047736431050875\n",
      "b=0.72414\n",
      "[-1.002 -0.879 -0.877] True\n",
      "<+|psi_b> =  0.9958640017805306\n",
      "||Pi |psi_b>|| =  0.10680816031470206\n",
      "b=0.75862\n",
      "[-1.003 -0.895 -0.892] True\n",
      "<+|psi_b> =  0.9932767806993836\n",
      "||Pi |psi_b>|| =  0.13012716296564641\n",
      "b=0.79310\n",
      "[-1.003 -0.915 -0.914] True\n",
      "<+|psi_b> =  0.9880755590492335\n",
      "||Pi |psi_b>|| =  0.1658618307729452\n",
      "b=0.82759\n",
      "[-1.005 -0.94  -0.938] False\n",
      "<+|psi_b> =  0.9758041504172368\n",
      "||Pi |psi_b>|| =  0.22627792743803102\n",
      "b=0.86207\n",
      "[-1.007 -0.966 -0.965] False\n",
      "<+|psi_b> =  0.9394048545637224\n",
      "||Pi |psi_b>|| =  0.3420466423680475\n",
      "b=0.89655\n",
      "[-1.014 -0.995 -0.994] False\n",
      "<+|psi_b> =  0.8095489207050739\n",
      "||Pi |psi_b>|| =  0.5690527368519356\n",
      "b=0.93103\n",
      "[-1.031 -1.024 -1.023] False\n",
      "<+|psi_b> =  0.535874023714876\n",
      "||Pi |psi_b>|| =  0.8074484084289997\n",
      "b=0.96552\n",
      "[-1.057 -1.054 -1.053] False\n",
      "<+|psi_b> =  0.33824548646308433\n",
      "||Pi |psi_b>|| =  0.8985628137886148\n",
      "b=1.00000\n",
      "[-1.086 -1.084 -1.084] False\n",
      "<+|psi_b> =  0.23964434213921157\n",
      "||Pi |psi_b>|| =  0.928906832954078\n"
     ]
    }
   ],
   "source": [
    "eta = 0.75\n",
    "\n",
    "eigenvals = []\n",
    "overlaps_with_plus = []\n",
    "norms_projected = []\n",
    "condition_1_satisfied = []\n",
    "\n",
    "# bs = np.logspace(-2, 0, 20)\n",
    "bs = np.linspace(0, 1, 30)\n",
    "# bs = [0]\n",
    "\n",
    "for b in bs:\n",
    "    print(f\"b={b:.5f}\")\n",
    "    H_b = - X / N + np.diag(b * g_eta(H_diag / np.abs(np.min(H_diag)), eta))\n",
    "\n",
    "    # check that it's Hermitian and we did not mess up\n",
    "    # assert np.all(np.isreal(H_b))\n",
    "    # assert np.all(H_b == H_b.T)\n",
    "\n",
    "    u,v = np.linalg.eigh(H_b)\n",
    "    \n",
    "    # check that eigenvalue / eigenvector pairs are interpreted correctly\n",
    "    idx = 0\n",
    "    eigvec = v[:, idx]\n",
    "    assert np.all(np.isclose((H_b.dot(eigvec) - u[idx]*eigvec), np.zeros(eigvec.shape)))\n",
    "\n",
    "    # Condition 1:\n",
    "    # the ground-state of Hb is non-degenerate and all excited states have energy greater than −1 + 1/n\n",
    "\n",
    "    unique_eigvals = sorted(set(np.round(u, 6)))[:3]\n",
    "    condition_1 = unique_eigvals[1] > -1 + 1/N\n",
    "    print(np.round(unique_eigvals, 3), condition_1)\n",
    "    eigenvals.append(unique_eigvals)\n",
    "    # assert condition_1\n",
    "    condition_1_satisfied.append(condition_1)\n",
    "\n",
    "    overlap_with_plus = np.abs(plus.dot(v[:, 0]))\n",
    "    print(\"<+|psi_b> = \", overlap_with_plus)\n",
    "    overlaps_with_plus.append(overlap_with_plus)\n",
    "\n",
    "    norm_projected = np.linalg.norm(P.dot(v[:, 0]))\n",
    "    print(\"||Pi |psi_b>|| = \", norm_projected)\n",
    "    norms_projected.append(norm_projected)"
   ]
  },
  {
   "cell_type": "code",
   "execution_count": 23,
   "id": "4669d0d8-dcd5-410f-8f84-f135663b1ea4",
   "metadata": {},
   "outputs": [
    {
     "data": {
      "text/plain": [
       "Text(0.5, 0, 'b')"
      ]
     },
     "execution_count": 23,
     "metadata": {},
     "output_type": "execute_result"
    },
    {
     "data": {
      "image/png": "[encoded data removed]",
      "text/plain": [
       "<Figure size 640x480 with 1 Axes>"
      ]
     },
     "metadata": {},
     "output_type": "display_data"
    }
   ],
   "source": [
    "import matplotlib.pyplot as plt\n",
    "\n",
    "for i in range(len(eigenvals[0])):\n",
    "    plt.plot(bs, [x[i] for x in eigenvals], label=f'lambda_{i}')\n",
    "plt.legend()\n",
    "plt.xlabel('b')"
   ]
  },
  {
   "cell_type": "code",
   "execution_count": 24,
   "id": "dfacb9ec-a957-47ab-aedb-b05eadfed855",
   "metadata": {},
   "outputs": [
    {
     "data": {
      "text/plain": [
       "Text(0.5, 0, 'b')"
      ]
     },
     "execution_count": 24,
     "metadata": {},
     "output_type": "execute_result"
    },
    {
     "data": {
      "image/png": "[encoded data removed]",
      "text/plain": [
       "<Figure size 640x480 with 1 Axes>"
      ]
     },
     "metadata": {},
     "output_type": "display_data"
    }
   ],
   "source": [
    "plt.plot(bs, overlaps_with_plus, label='Overlap with |+>')\n",
    "plt.plot(bs, norms_projected, label='Overlap with ground state')\n",
    "plt.legend()\n",
    "plt.yscale('log')\n",
    "plt.xlabel('b')"
   ]
  },
  {
   "cell_type": "markdown",
   "id": "52b43507-32de-4ba8-85a0-a680fff717b6",
   "metadata": {},
   "source": [
    "# Estimate coefficient alpha in alpha-depolarizing objective\n",
    "\n",
    "Desired: E H(y)=(1−α)H(x) (see Eq 7 in https://arxiv.org/pdf/2212.01513.pdf)"
   ]
  },
  {
   "cell_type": "code",
   "execution_count": 29,
   "id": "cd41e347-a1e4-46ae-a605-14e16ea9b702",
   "metadata": {},
   "outputs": [],
   "source": [
    "import scipy\n",
    "from copy import deepcopy\n",
    "\n",
    "from labs import merit_factor, energy_vals, get_energy_term_indices\n",
    "from functools import partial\n",
    "\n",
    "def get_random_seq_of_spins(N):\n",
    "    return [np.random.choice([-1,1]) for _ in range(N)]\n",
    "\n",
    "def flip_random_spin(s):\n",
    "    snew = deepcopy(s)\n",
    "    idx = np.random.randint(0, high=len(s))\n",
    "    snew[idx] *= -1\n",
    "    return snew"
   ]
  },
  {
   "cell_type": "code",
   "execution_count": 30,
   "id": "e14f57c5-1588-4a44-aa67-20e427e85d66",
   "metadata": {},
   "outputs": [
    {
     "name": "stdout",
     "output_type": "stream",
     "text": [
      "5 (-8.8, 0.872)\n",
      "10 (-2.129230769230769, 0.4785321100917431)\n",
      "15 (-2.0069565217391303, 0.28663101604278074)\n",
      "20 (-0.4391836734693877, 0.2594475138121547)\n",
      "25 (-0.3474999999999999, 0.1886131386861314)\n",
      "30 (-0.26995260663507104, 0.15685452162516378)\n",
      "35 (-0.24172307692307693, 0.07285913528591359)\n",
      "40 (-0.1554716981132076, 0.10872246696035248)\n",
      "45 (-0.13025641025641033, 0.06873885350318476)\n",
      "50 (-0.08952601156069373, 0.0967214367596484)\n",
      "55 (-0.171264667535854, 0.1100528128587831)\n",
      "60 (-0.07492682926829275, 0.045343629343629344)\n",
      "65 (-0.06459016393442618, 0.06746817538896754)\n",
      "70 (-0.06479256965944269, 0.03024614374794876)\n",
      "75 (-0.04227725956899331, 0.04371502468845523)\n",
      "80 (-0.05567451820128477, 0.04544444444444451)\n",
      "85 (-0.08130143540669854, 0.04715016551309048)\n",
      "90 (-0.06749300279888049, 0.04199961984413614)\n",
      "95 (-0.046551997883037766, 0.018437086092715216)\n"
     ]
    }
   ],
   "source": [
    "alphas_stats = []\n",
    "for N in np.arange(5,100,5):\n",
    "    \n",
    "    terms, offset = get_energy_term_indices(N)\n",
    "    get_en = partial(energy_vals, terms=terms, offset=offset, check_parameters=False)\n",
    "    \n",
    "    alphas = []\n",
    "    for _ in range(20):\n",
    "        s = get_random_seq_of_spins(N)\n",
    "        E = get_en(s)\n",
    "        E_flipped = np.mean([get_en(flip_random_spin(s)) for _ in range(50)])\n",
    "\n",
    "        E, E_flipped\n",
    "        alphas.append(1 - E_flipped/E)\n",
    "\n",
    "    alphas_stats.append(deepcopy(scipy.stats.describe(alphas)))\n",
    "    print(N, alphas_stats[-1].minmax)"
   ]
  },
  {
   "cell_type": "code",
   "execution_count": 31,
   "id": "d2e95925-abf5-4a57-9254-deef5513dd67",
   "metadata": {},
   "outputs": [
    {
     "data": {
      "text/plain": [
       "[<matplotlib.lines.Line2D at 0x7fec55edea90>]"
      ]
     },
     "execution_count": 31,
     "metadata": {},
     "output_type": "execute_result"
    },
    {
     "data": {
      "image/png": "[encoded data removed]",
      "text/plain": [
       "<Figure size 640x480 with 1 Axes>"
      ]
     },
     "metadata": {},
     "output_type": "display_data"
    }
   ],
   "source": [
    "Ns = np.arange(5,100,5)[1:]\n",
    "plt.plot(Ns, [x.minmax[1] for x in alphas_stats[1:]])\n",
    "plt.plot(Ns, [5/N for N in Ns], linestyle='dashed')"
   ]
  },
  {
   "cell_type": "markdown",
   "id": "ca88f9f7-7574-4945-929c-cc4060019601",
   "metadata": {},
   "source": [
    "Estimated $\\alpha = 5/N$. Compare with MAX-4-LIN2 is alpha-depolarizing with $\\alpha=8/N$"
   ]
  },
  {
   "cell_type": "code",
   "execution_count": 32,
   "id": "298dfdd5-07de-4907-8633-1386c2dca835",
   "metadata": {},
   "outputs": [
    {
     "name": "stdout",
     "output_type": "stream",
     "text": [
      "Estimated scaling: 1.33**N\n",
      "Quantum-accelerated branch-and-bound: 1.32**N\n"
     ]
    }
   ],
   "source": [
    "print(f\"Estimated scaling: {2**(0.5-0.8*0.75/(2*5*np.log(2))):.2f}**N\")\n",
    "print(f\"Quantum-accelerated branch-and-bound: {np.sqrt(1.73):.2f}**N\")"
   ]
  },
  {
   "cell_type": "markdown",
   "id": "357f1c55-e1c3-4176-95cb-dc73659fc530",
   "metadata": {},
   "source": [
    "Better scaling may be possible if the alpha-depolarization factor can be carefully estimated"
   ]
  },
  {
   "cell_type": "markdown",
   "id": "e7241021-33fd-4f89-9906-aa5d36a8dc73",
   "metadata": {},
   "source": [
    "# Debugging"
   ]
  },
  {
   "cell_type": "code",
   "execution_count": 44,
   "id": "eed346a3-7d1b-4827-afb2-77e5275fe206",
   "metadata": {},
   "outputs": [
    {
     "data": {
      "text/plain": [
       "1.0"
      ]
     },
     "execution_count": 44,
     "metadata": {},
     "output_type": "execute_result"
    }
   ],
   "source": [
    "import sys\n",
    "sys.path.append(\"../code/\")\n",
    "\n",
    "import numpy as np\n",
    "from matrix import X as Pauli_X \n",
    "from matrix import I as Pauli_I \n",
    "from matrix import kron\n",
    "\n",
    "N = 9\n",
    "\n",
    "H = -sum(\n",
    "        kron(*([Pauli_I] * i + [Pauli_X] + [Pauli_I] * (N - i - 1)))\n",
    "        for i in range(N)\n",
    ")\n",
    "\n",
    "assert np.all(np.isreal(H))\n",
    "assert np.all(H == H.T)\n",
    "\n",
    "plus = np.ones(2**N) / 2**(N/2)\n",
    "assert np.isclose(plus.T.dot(plus), 1)\n",
    "\n",
    "u, v = np.linalg.eigh(H)\n",
    "plus.dot(v[:, 0])"
   ]
  },
  {
   "cell_type": "code",
   "execution_count": null,
   "id": "f1f007d5-58bf-4702-b246-e2a495074b55",
   "metadata": {},
   "outputs": [],
   "source": []
  }
 ],
 "metadata": {
  "kernelspec": {
   "display_name": "py38",
   "language": "python",
   "name": "py38"
  },
  "language_info": {
   "codemirror_mode": {
    "name": "ipython",
    "version": 3
   },
   "file_extension": ".py",
   "mimetype": "text/x-python",
   "name": "python",
   "nbconvert_exporter": "python",
   "pygments_lexer": "ipython3",
   "version": "3.8.11"
  }
 },
 "nbformat": 4,
 "nbformat_minor": 5
}
