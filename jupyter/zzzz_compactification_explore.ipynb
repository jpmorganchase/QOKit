{
 "cells": [
  {
   "cell_type": "markdown",
   "id": "cf5c2a12-4823-4871-851a-6f04dc412478",
   "metadata": {},
   "source": [
    "<h2> How much does ZZZZ compactification help? </h2>"
   ]
  },
  {
   "cell_type": "code",
   "execution_count": null,
   "id": "5238e673-3b8b-4d93-88fa-8e0edd339815",
   "metadata": {},
   "outputs": [],
   "source": [
    "random_params = [[.234*np.pi], [1.78]]\n",
    "max_n = 26"
   ]
  },
  {
   "cell_type": "code",
   "execution_count": null,
   "id": "cef3318c-9d02-4579-8814-04a70e4b212b",
   "metadata": {},
   "outputs": [],
   "source": [
    "depth_opt_count = []\n",
    "depth_opt_depth = []\n",
    "# construct TKET optimized circuits with ZZZZ compactification\n",
    "print(\"N\\tp\\t2q-depth\\t2q-count\")\n",
    "for N in range(4, max_n):\n",
    "    _, stats = build_circuit(N, 1, random_params)\n",
    "    depth_opt_count.append(stats['two_q_count'])\n",
    "    depth_opt_depth.append(stats['two_q_depth'])"
   ]
  },
  {
   "cell_type": "code",
   "execution_count": null,
   "id": "9a10f41b-1a74-4fef-ba19-784e437d05a6",
   "metadata": {},
   "outputs": [],
   "source": [
    "# construct TKET optimized circuits without ZZZZ compactification\n",
    "no_depth_opt_count = []\n",
    "no_depth_opt_depth = []\n",
    "\n",
    "print(\"N\\tp\\t2q-depth\\t2q-count\")\n",
    "for N in range(4, max_n):\n",
    "    _, stats = build_circuit(N, 1, random_params, depth_optimized=False)\n",
    "    no_depth_opt_count.append(stats['two_q_count'])\n",
    "    no_depth_opt_depth.append(stats['two_q_depth'])"
   ]
  },
  {
   "cell_type": "code",
   "execution_count": null,
   "id": "64a71f48-75ca-4289-a449-3bb0c71200b8",
   "metadata": {},
   "outputs": [],
   "source": [
    "plt.scatter(range(4, max_n), depth_opt_count, label='compactified')\n",
    "plt.scatter(range(4, max_n), no_depth_opt_count, label='original', c='red')\n",
    "plt.legend()\n",
    "plt.title('2q-count comparisons')"
   ]
  },
  {
   "cell_type": "code",
   "execution_count": null,
   "id": "5d013c41-c70f-4841-8558-5ee4baf20cca",
   "metadata": {},
   "outputs": [],
   "source": [
    "plt.scatter(range(4, max_n), depth_opt_depth, label='compactified')\n",
    "plt.scatter(range(4, max_n), no_depth_opt_depth, label='original', c='red')\n",
    "plt.legend()\n",
    "plt.title('2q-depth comparisons')"
   ]
  }
 ],
 "metadata": {
  "kernelspec": {
   "display_name": "py39",
   "language": "python",
   "name": "py39"
  },
  "language_info": {
   "codemirror_mode": {
    "name": "ipython",
    "version": 3
   },
   "file_extension": ".py",
   "mimetype": "text/x-python",
   "name": "python",
   "nbconvert_exporter": "python",
   "pygments_lexer": "ipython3",
   "version": "3.9.4"
  }
 },
 "nbformat": 4,
 "nbformat_minor": 5
}
